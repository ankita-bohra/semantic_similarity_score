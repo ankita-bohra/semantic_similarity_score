{
 "cells": [
  {
   "cell_type": "markdown",
   "metadata": {},
   "source": [
    "Semantic Similarity Model - It will calculate the similarity score for two different sentences."
   ]
  },
  {
   "cell_type": "markdown",
   "metadata": {},
   "source": [
    "Model used - sentence-transformers/bert-base-nli-mean-tokens"
   ]
  },
  {
   "cell_type": "code",
   "execution_count": 2,
   "metadata": {},
   "outputs": [
    {
     "name": "stderr",
     "output_type": "stream",
     "text": [
      "C:\\Users\\karan\\AppData\\Roaming\\Python\\Python311\\site-packages\\tqdm\\auto.py:21: TqdmWarning: IProgress not found. Please update jupyter and ipywidgets. See https://ipywidgets.readthedocs.io/en/stable/user_install.html\n",
      "  from .autonotebook import tqdm as notebook_tqdm\n"
     ]
    }
   ],
   "source": [
    "from transformers import AutoTokenizer, AutoModel\n",
    "import torch\n",
    "import pandas as pd"
   ]
  },
  {
   "cell_type": "markdown",
   "metadata": {},
   "source": [
    "Loading the data from the .csv file and converting it to list, where sentence1 is having 'text1' column value & sentence2 is having 'text2' column values"
   ]
  },
  {
   "cell_type": "code",
   "execution_count": 3,
   "metadata": {},
   "outputs": [],
   "source": [
    "df = pd.read_csv('Precily_Text_Similarity_sample.csv', encoding='utf-8')\n",
    "sentence1 = df.text1.tolist()\n",
    "sentence2 = df.text2.tolist()\n",
    "\n",
    "model_name = 'sentence-transformers/bert-base-nli-mean-tokens'"
   ]
  },
  {
   "cell_type": "markdown",
   "metadata": {},
   "source": [
    "Adding the sentence1 and sentence2 list to Sentences list as such that the sentence2[0] comes after sentence1[0]"
   ]
  },
  {
   "cell_type": "code",
   "execution_count": 4,
   "metadata": {},
   "outputs": [],
   "source": [
    "sentences = []\n",
    "sentences = [item for sublist in zip(sentence1, sentence2) for item in sublist]\n"
   ]
  },
  {
   "cell_type": "code",
   "execution_count": 4,
   "metadata": {},
   "outputs": [
    {
     "data": {
      "text/plain": [
       "['broadband challenges tv viewing the number of europeans with broadband has exploded over the past 12 months  with the web eating into tv viewing habits  research suggests.  just over 54 million people are hooked up to the net via broadband  up from 34 million a year ago  according to market analysts nielsen/netratings. the total number of people online in europe has broken the 100 million mark. the popularity of the net has meant that many are turning away from tv  say analysts jupiter research. it found that a quarter of web users said they spent less time watching tv in favour of the net  the report by nielsen/netratings found that the number of people with fast internet access had risen by 60% over the past year.  the biggest jump was in italy  where it rose by 120%. britain was close behind  with broadband users almost doubling in a year. the growth has been fuelled by lower prices and a wider choice of always-on  fast-net subscription plans.  twelve months ago high speed internet users made up just over one third of the audience in europe; now they are more than 50% and we expect this number to keep growing   said gabrielle prior  nielsen/netratings analyst.  as the number of high-speed surfers grows  websites will need to adapt  update and enhance their content to retain their visitors and encourage new ones.  the total number of europeans online rose by 12% to 100 million over the past year  the report showed  with the biggest rise in france  italy  britain and germany.  the ability to browse web pages at high speed  download files such as music or films and play online games is changing what people do in their spare time.  a study by analysts jupiter research suggested that broadband was challenging television viewing habits. in homes with broadband  40% said they were spending less time watching tv. the threat to tv was greatest in countries where broadband was on the up  in particular the uk  france and spain  said the report. it said tv companies faced a major long-term threat over the next five years  with broadband predicted to grow from 19% to 37% of households by 2009.  year-on-year we are continuing to see a seismic shift in where  when and how europe s population consume media for information and entertainment and this has big implications for tv  newspaper and radio   said jupiter research analyst olivier beauvillian.',\n",
       " 'gardener wins double in glasgow britain s jason gardener enjoyed a double 60m success in glasgow in his first competitive outing since he won 100m relay gold at the athens olympics.  gardener cruised home ahead of scot nick smith to win the invitational race at the norwich union international. he then recovered from a poor start in the second race to beat swede daniel persson and italy s luca verdecchia. his times of 6.61 and 6.62 seconds were well short of american maurice greene s 60m world record of 6.39secs from 1998.  it s a very hard record to break  but i believe i ve trained very well   said the world indoor champion  who hopes to get closer to the mark this season.  it was important to come out and make sure i got maximum points. my last race was the olympic final and there was a lot of expectation.  this was just what i needed to sharpen up and get some race fitness. i m very excited about the next couple of months.   double olympic champion  marked her first appearance on home soil since winning 1500m and 800m gold in athens with a victory. there was a third success for britain when  edged out russia s olga fedorova and sweden s jenny kallur to win the women s 60m race in 7.23secs. maduaka was unable to repeat the feat in the 200m  finishing down in fourth as  took the win for russia. and the 31-year-old also missed out on a podium place in the 4x200m relay as the british quartet came in fourth  with russia setting a new world indoor record. there was a setback for jade johnson as she suffered a recurrence of her back injury in the long jump. russia won the meeting with a final total of 63 points  with britain second on 48 and france one point behind in third.  led the way for russia by producing a major shock in the high jump as he beat olympic champion stefan holm into second place to end the swede s 22-event unbeaten record.  won the triple jump with a leap of 16.87m  with britain s tosin oke fourth in 15.80m.  won the men s pole vault competition with a clearance of 5.65m  with britain s nick buckfield 51cm adrift of his personal best in third. and  won the women s 800m  with britain s jenny meadows third. there was yet another russian victory in the women s 400m as  finished well clear of britain s catherine murphy. chris lambert had to settle for fourth after fading in the closing stages of the men s 200m race as sweden s  held off leslie djhone of france. france s  won the men s 400m  with brett rund fourth for britain.  took victory for sweden in the women s 60m hurdles ahead of russia s irina shevchenko and britain s sarah claxton  who set a new personal best. italy grabbed their first victory in the men s 1500m as  kicked over the last 200 metres to hold off britain s james thie and france s alexis abraham. a botched changeover in the 4x200m relay cost britain s men the chance to add further points as france claimed victory.',\n",
       " 'rap boss arrested over drug find rap mogul marion  suge  knight has been arrested for violating his parole after he was allegedly found with marijuana.  he was arrested in barstow  california  on saturday following an alleged traffic offence. he is expected to be transferred to a state prison while a decision is made on whether he should be released. mr knight  founder of death row records  served a 10-month jail term in 2004 for punching a man while on parole for an assault conviction. police said mr knight was stopped on saturday after performing an illegal u-turn and a search of his car allegedly found marijuana.  he is also accused of not having insurance. a 18-year-old woman in the car was arrested for providing false information and having a fake id card. she was later released. it was his second alleged violation  having previously served half of a nine-year sentence for breaking the terms of his parole. mr knight  39  was jailed in october 1996 following his involvement in a fight with a rival gang just hours before rapper tupac shakur was killed in a las vegas drive-by shooting. he was driving shakur s car at the time and was shot in the head. at the time he was on probation for assaulting two musicians. mr knight  a former bodyguard  set up death row records in the early 1990s with shakur and dr dre among his protegees. but the label has always been dogged by allegations it supports gang culture and fuels the east and west coast rap rivalry.',\n",
       " 'amnesty chief laments war failure the lack of public outrage about the war on terror is a powerful indictment of the failure of human rights groups  amnesty international s chief has said.  in a lecture at the london school of economics  irene khan said human rights had been flouted in the name of security since 11 september  2001. she said the human rights movement had to use simpler language both to prevent scepticism and spread a moral message. and it had to fight poverty  not just focus on political rights for elites.  ms khan highlighted detentions without trial  including those at the us camp at guantanamo bay in cuba  and the abuse of prisoners as evidence of increasing human rights problems.  what s a new challenge is the way in which this age-old debate on security and human rights has been translated into the language of war   she said.  by using the language of war  human rights are being sidelined because we know human rights do not apply in times of war.  ms khan said such breaches were infectious and were now seen in almost very major country in the world.  the human rights movement faces a crisis of faith in the value of human rights   she said. that was accompanied by a crisis of governance  where the united nations system did not seem able to hold countries to account.  the amnesty secretary-general said a growing gap between the perceived influence of human rights group and what they could actually achieve was fuelling scepticism.  public passivity on the war against terror is the single most powerful indictment on the failures of human rights groups   she said. ms khan said the movement had failed to mobilise public outrage about what was happening to the human rights system. there needed to be a drive to use simpler language  talking about the basic morality of the issues rather than the complexity of legal processes. such efforts could make the issues more relevant to people across the world  she said.  the human rights groups also had to recognise there were new groups which had to be tackled in new ways as power dripped away from state governments. al-qaeda  for example  was not going to be impressed by a traditional amnesty letter writing campaign. more also needed to be done to develop a human rights framework for international business corporations. amnesty international members voted in 2001 to extend the organisation s work from political and civil rights to cover social and economic rights too. ms khan said the human rights movement would make itself irrelevant if it turned away from the suffering caused by economic strife.  we would be an elitist bunch working for the elites  for those who cannot read the newspaper of their choice rather than those who cannot read   she said. despite her concerns  ms khan dubbed herself a  hope-monger   saying she was confident the passions of the human rights movement could overcome the new challenges.',\n",
       " 'player burn-out worries robinson england coach andy robinson says english rugby has to act now to prevent injury destroying players  careers.  he will be without a host of big names for the six nations as the intensity of professional rugby union hits players.  injuries are part of the sport but we have to have a look at the amount of injuries that occur in the english season   robinson told bbc sport.  i think players are probably going to have three or four years taken off their careers.  robinson will be missing an entire midfield for the six nations with the likes of jonny wilkinson  mike tindall and will greenwood injured.  rugby union has become far more physically demanding since the game went professional nearly 10 years ago. as a result three of the major stakeholders in english rugby have launched an  injury audit  to find out how players are coping. the audit is jointly funded by the professional rugby players  association  the rugby football union and premier rugby. as far as robinson is concerned its findings must not be ignored.  i think there s an injury audit coming out in march that s got some great information in there that i think everybody in the english game has got to look at   he said.  if we don t the situation is going to get worse and not better  so i think rugby as a whole has got to look at this.',\n",
       " 'hanks greeted at wintry premiere hollywood star tom hanks was in london s leicester square for the uk premiere of polar express.  the west end landmark was turned into a festive landscape complete with snow and carol singers to celebrate the arrival of the animated film.  this is leicester square like you ve never seen it before   said hanks  who plays five roles in the movie. polar express is based on a children s book which tells the story of a young boy s journey to meet santa claus. the 48-year-old actor crossed a three-metre high bridge built in the square  which he said was  almost impossible to get across . hundreds of fans greeted the star  all wearing santa hats  and mince pies were on offer. hanks said that the new film has an  elegant message .  christmas is a special time of the year and you get out of it what you put into it   added the two-time academy award winner.   i believe in the spirit of christmas and i think that s embodied in santa claus   he said. polar express uses technology similar to that used in lord of the rings to bring gollum to life. the  performance capture  technique enables hanks to play a number of roles  including the eight-year-old boy who is at the centre of the story  and father christmas. it is directed by robert zemeckis  who has previously worked with hanks on forrest gump and castaway.',\n",
       " 'hearts of oak 3-2 cotonsport hearts of oak set up an all ghanaian confederation cup final with a 3-2 win over cameroon s cotonsport garoua in accra on sunday.  the win for hearts means they will play asante kotoko in the two-leg final  after the kumasi team qualified from group a on saturday. in the other group b game cameroon s  beat  of south africa 3-2 in douala  neither side could have qualified for the final. hearts of oak started the game needing a win to qualify for the final while cotonsport only needed to avoid defeat to go through. louis agyemang scored the first two goals for hearts either side of half time before ben don bortey scored the third. hearts looked set for a comfortable win but cotonsport staged a late fight back scoring twice late on. first of all boukar makaji scored in the 89th minute and then 3 minutes into injury time at the end of the game andre nzame iii was on target. but it was too little too late for the cameroonians and hearts held on to win the game and a place in the final. the first leg of the final will be played in accra on the weekend of 27-28 november and the second leg two weeks later on the 11 december in kumasi. in the other group b game cameroon s sable batie took the lead in the 35th minute through kemadjou before santos equalised on the hour mark thanks to thokozani xaba . bernard ngom put sable ahead just five minutes later and then ernest nfor settled the game on 68 minutes. ruben cloete scored the south african sides consolation with just three minutes left on the clock.',\n",
       " 'redford s vision of sundance despite sporting a corduroy cap pulled low over his face plus a pair of dark glasses  robert redford cuts an unmistakable figure through the star-struck crowds at sundance.  it s a rare downtown appearance for the man who started the annual festival in park city  utah back in the 1980s. now in its twenty-first year  sundance continues to grow. some 45 000 people are estimated to have descended on this small ski town with nothing but movies on the mind. it s an opportunity to meet and make deals. redford wanted sundance to be a platform for independent film-makers  but the commercial success of many showcased films have led to criticism that the festival is becoming too mainstream.  smaller festivals like slamdance and xdance  which take place during the same week in park city  are competing for sundance s limelight. but redford is not worried.  the more the merrier   he says.  the point was to create opportunities for people who may not have them.  once independent film had a place where the work could be seen  suddenly the merchants came. with them the celebrities came  then the paparazzi - and suddenly it began to take on a whole new tone   explains redford.   people started to say we had gone mainstream and hollywood  but actually hollywood came to us because suddenly there was good business in independent film   he adds. international film-makers have always been celebrated here  but 2005 is the first year a dedicated world dramatic and documentary competition is being held.  redford wants the festival to encompass viewpoints he believes the american media fails to reflect  particularly how the us is perceived internationally. he has never hidden the fact that he is a democrat. but he reserves particular disdain for the current republican administration.  it s the ability to maintain the importance of dissent in a democratic system which right now is under threat with the attitude of this administration   he says.  i think many voices are being shut down or accused of being unpatriotic if they want to express another point of view. that s very unhealthy and very dangerous.   if we take that policy into the world  there will be the same victims and the same consequences.  sundance isn t just one big screening. there are discussion panels and q&a sessions with directors tackling controversial topics like america s  culture wars  and the iraq war. while redford wishes the festival to be a forum for dissent  the profile of the audience is fairly monolithic. educated  middle class and predominantly white americans comes sundance  with views from the same end of the political spectrum - anti-war and socially liberal. but redford knows this and started the sundance tv channel in an effort to reach a wider audience.  when you look at the films here  what we are presenting is very much egalitarian. and it s about good films and good story-telling be it african america  asian  women  gay  lesbian.  sooner or later we will do away with those stereotypical labels and people will say  it s just a film by so-and so .',\n",
       " 'sir paul rocks super bowl crowds sir paul mccartney wowed fans with a live mini-concert at american football s super bowl - and avoided any janet jackson-style controversies.  the 62-year-old sang hey jude and other beatles songs in a 12-minute set at half-time during the game in florida. last year  jackson exposed a breast during a dance routine  causing outrage among millions of tv viewers and landing the cbs tv network a fine. sir paul  however  did nothing more racy than remove his jacket as he sang. organisers were widely considered to be playing it safe this year by booking 62-year-old sir paul for his second super bowl show.  three years ago  he was invited to perform at the first super bowl after the september 11 attacks and performed his specially-written song freedom. this time  he started off the show  at the alltel stadium in jacksonville  florida  with the beatles numbers drive my car and get back. he then performed a mellow version of live and let die  the james bond theme he recorded with the band wings. finally  he closed the show with a rousing version of hey jude. the former beatle resisted any temptation to refer to janet jackson s headline-grabbing performance last year  instead keeping banter between songs to a minimum in order to squeeze as much music as he could into his slot. the singer removed his black jacket halfway through the show - but any fans hoping for a second  nipple-gate  were to be disappointed as he kept his red sweatshirt on underneath.  earlier  the black eyed peas and alicia keys had provided the night s other high-profile entertainment by performing in a pre-game show. black eyed peas singer fergie was dressed in a tight orange top and purple hotpants  but nothing in her performance was likely to upset tv watchdogs. after the controversy last year - which saw cbs fined a record $550 000 (£292 000) by federal regulators - super bowl organisers had turned to producer don mischer to oversee this year s half-time show. his previous production credits included olympic opening and closing ceremonies. the super bowl is watched by an audience of 144.4 million in the us  with many of the people watching are said to tune in specifically to see the entertainment put on around the event. michael jackson  aerosmith  diana ross  gloria estefan and phil collins are among the stars who have previously graced the super bowl stage.',\n",
       " 'mauresmo opens with victory in la amelie mauresmo and maria sharapova won their opening matches at the tour championships in los angeles.  france s mauresmo routed vera zvonareva 6-1 6-0  while wimbledon champion sharapova was a 6-1 6-4 winner over fellow russian svetlana kuznetsova. american serena williams also won  edging russian elena dementieva 7-6 7-5 for her second victory of the event. the event is split into two groups of four with the top two from each advancing to the semi-finals.  mauresmo s win was her ninth in a row as she tries to overtake lindsay davenport for the number one spot. mauresmo spent five weeks at number one after the us open before injury ushered davenport back in front.  since then  i feel very confident on court and my game is there. i want to get the ranking back  but it s very different than before i was number one.  it was an obsession  but now i take it in a relaxed way.  mauresmo completed her first match in the season-ending championship in 54 minutes as russia s zvonareva struggled to return her serve and failed to achieve a single break point.   she got mad a little bit and i played some great tennis   said mauresmo  who was runner-up to kim clijsters in last year s final. zvonareva has lost both her games so far  having crashed 6-2 6-4 kuznetsova in the staples centre on wednesday.  sometimes not everything works   she said.  it was lots of pressure. maybe that is why i couldn t do 100%. but i was fighting.  sharapova  who lost 6-2 6-2 to kuznetsova in beijing in september  said:  in beijing  she was coming off such a big winning streak [14 matches] and she was unstoppable.  this time  it was important to start off well and put some pressure on her.  the tournament debutant added:  i love it here. the atmosphere is great.  to be here where the lakers play  you just feel that excitement. i love basketball.  williams admitted she is still some way off her best form but remained positive after two wins in two days.  it s hard to go out there and get it right but i m fighting and i m hoping   said williams.  what makes me happy is the effort. i had a really good effort today.  i m trying to add new dimensions to my game.',\n",
       " 'india to deport bollywood actress india has ordered the deportation of iranian-born model and actress negar khan to norway after saying she was working illegally on her visa.  khan has had raunchy roles in music videos and bollywood films over the past two years. the distressed actress told media she was being driven straight to the airport after a routine appointment at the bombay immigration office. immigration officials said she had been warned about her visa last year.  khan told an indian news channel on her mobile phone:  they are not even letting me go home to get my bags. i have no clothes or money on me.  they did not give me any notice. i don t know why they are taking me away like this. there is nothing wrong with my visa. it says i work here... they are not allowing me to even call a lawyer.  bipin bihari  deputy police chief in bombay  said khan was being sent back to norway  from which she holds a passport  on the first available flight.  she was on a visitor s visa but she has engaged in several commercial ventures   he said.  we issued notices last year  in view of which she had gone back to norway  but she has returned again this year to work.  one of khan s biggest successes was the steamy hindi song chadti jawani (rising youth). khan was involved in controversy when topless photos alleged to be of her appeared in a norwegian magazine.',\n",
       " 'fosters buys stake in winemaker australian brewer fosters has bought a large stake in australian winemaker southcorp  sparking rumours of a possible takeover.  fosters bought 18.8% of southcorp  the global winemaker behind the penfolds  lindemans and rosemount brands  for 4.17 australian dollars per share. a bid at that price would value the company at a$3.1bn ($2.4bn; £1.25bn ). fosters said it was currently in discussions  which may lead to a major corporate announcement .  in a separate statement  southcorp confirmed the brewer had asked for talks. both firms asked the sydney stock market to suspend trading in their shares until monday. southcorp s shares were suspended at a$4.25.  fosters bought the 18.8% stake from reline investments  the family investment firm for the oatleys  who founded the rosemount estates label and sold it to southcorp in 2001. robert oatley and his son sandy oatley have both resigned from southcorp s board following the share deal. southcorp employs 2 700 people and is the largest single investor in rural australia  according to its website. the prospect of fosters launching a major acquisition startled investors  as the brewer said last summer that it was not looking to expand through a big buy in the near future. it has cash available  after getting a$846m from selling property business lensworth  but it has been widely expected to return cash to shareholders.   people will scratching their heads over this one. fosters has done a back-flip   said shawn burns  a fund manger at deutsche asset management. southcorp s shares have risen in recent months on speculation that it could become a takeover target. it spent two years in the red  returning to profit in 2004. consolidation in the wine industry is being driven by constellation  the world s biggest winemaker. it seized the top spot when it bought australian firm brl hardy for just over $1bn in 2003. since then  it has paid $1bn for us wine maker robert mondavi  bought last month. fosters  main wine business is beringer blass wine estate. its best known brand is fosters lager  though it makes a clutch of beer brands  and spirits. analysts were divided on thursday about whether fosters was more likely to go for a takeover or merely wanted to take a big enough chunk of southcorp to prevent it falling to a rival.  currently  i think the strategic position is more sensible rather than an outright takeover   said one analyst quoted by the agence france presse news agency. however  matt williams  a fund manager at perpetual trustees said taking the stake  is definitely a precursor to a takeover .',\n",
       " 'mutant book wins guardian prize a book about the evolution of mutants and the science of abnormality has won the guardian first book award 2004.  armand marie leroi  a lecturer at london s imperial college  scooped the £10 000 prize for mutants: on the form  varieties and errors of the human body.  it is profoundly cultured and beautifully written in the very best tradition of popular science writing today   said judge claire armistead. the award recognises and rewards new writing across fiction and non-fiction. a panel of literary experts  including novelists hari kunzru and ali smith  director sir richard eyre and comedian alexei sayle chose the winner from a five-strong shortlist.  the shortlist included susanna clarke s jonathan strange and mr norrell  a novel about the magic arts at the turn of the 19th century and the places in between  rory stewart s account of his trek  on foot  across afghanistan.  what we found so impressive about armand marie leroi s book was the scope of its reference  its elegance and its inquisitiveness   said ms armistead  chair of the judges and the guardian literary editor.  while the subject matter of mutants unsettled some involved in the judging process  the overwhelming majority found it fascinating   she added. her words were echoed by iris director sir richard eyre who called marie leroi s work  extraordinarily thought provoking . the award  for first time authors  is open to books from genres including fiction  poetry  biography  memoir  history  politics  science and current affairs. previous winners include white teeth by zadie smith  in 2000  which went on to become a bestseller.',\n",
       " 'jp morgan admits us slavery links thousands of slaves were accepted as collateral for loans by two banks that later became part of jp morgan chase.  the admission is part of an apology sent to jp morgan staff after the bank researched its links to slavery in order to meet legislation in chicago. citizens bank and canal bank are the two lenders that were identified. they are now closed  but were linked to bank one  which jp morgan bought last year. about 13 000 slaves were used as loan collateral between 1831 and 1865.  because of defaults by plantation owners  citizens and canal ended up owning about 1 250 slaves.  we all know slavery existed in our country  but it is quite different to see how our history and the institution of slavery were intertwined   jp morgan chief executive william harrison and chief operating officer james dimon said in the letter.  slavery was tragically ingrained in american society  but that is no excuse.   we apologise to the african-american community  particularly those who are descendants of slaves  and to the rest of the american public for the role that citizens bank and canal bank played.   the slavery era was a tragic time in us history and in our company s history.  jp morgan said that it was setting up a $5m scholarship programme for students living in louisiana  the state where the events took place. the bank said that it is a  very different company than the citizens and canal banks of the 1800s .',\n",
       " 'aids and climate top davos agenda climate change and the fight against aids are leading the list of concerns for the first day of the world economic forum in the swiss resort of davos.  some 2 000 business and political leaders from around the globe will listen to uk prime minister tony blair s opening speech on wednesday. mr blair will focus on africa s development plans and global warming. earlier in the day came an update on efforts to have 3 million people on anti-aids drugs by the end of 2005. the world health organisation (who) said 700 000 people in poor countries were on life-extending drugs - up from 440 000 six months earlier but amounting to only 12% of the 5.8 million who needed them. a $2bn  funding gap  still stood in the way of hitting the 2005 target  the who said.  the themes to be stressed by mr blair - whose attendance was announced at the last minute - are those he wants to dominate the uk s chairmanship of the g8 group of industrialised states. other issues to be discussed at the five-day conference range from china s  economic power to iraq s future after this sunday s elections. aside from mr blair  more than 20 other world leaders are expected to attend including french president jacques chirac - due to speak by video link after bad weather delayed his helicopter - and south african president thabo mbeki  whose arrival has been delayed by ivory coast peace talks. the ukraine s new president  viktor yushchenko  will also be there - as will newly elected palestinian leader mahmoud abbas. showbiz figures will also put in an appearance  from u2 frontman bono - a well-known campaigner on trade and development issues - to angelina jolie  a goodwill campaigner for the un on refugees.  unlike previous years  protests against the wef are expected to be muted. anti-globalisation campaigners have called off a demonstration planned for the weekend. at the same time  about 100 000 people are expected to converge on the brazilian resort of porto alegre for the world social forum - the so-called  anti-davos  for campaigners against globalisation  for fair trade  and many other causes.  in contrast  the davos forum is dominated by business issues - from outsourcing to corporate leadership - with bosses of more than a fifth of the world s 500 largest companies scheduled to attend. a survey published on the eve of the conference by pricewaterhousecoopers said four in ten business leaders were  very confident  that their companies would see sales rise in 2005. asian and american executives  however  were much more confident than their european counterparts. but the political discussions  focusing on iran  iraq and china  are likely to dominate media attention.',\n",
       " 'howl helps boost japan s cinemas japan s box office received a 3.8% boost last year  with ticket sales worth 211bn yen (£1.08bn).  the surge was led by animated movie howl s moving castle  which took 20bn yen (£102m) to become the biggest film in japan in 2004. it is expected to match the 30.7bn yen (£157m) record of hayao miyazaki s previous film spirited away. japan motion picture producers figures showed that 170 million cinema admissions were made in japan in 2004. the last samurai  starring tom cruise  was the biggest foreign movie hit in japan last year  taking 13.8bn yen (£70.7m).  it was followed by harry potter and the prisoner of azkaban  finding nemo and the lord of the rings: the return of the king. the second highest-grossing japanese film was romantic drama crying out love in the centre of the world  followed by be with you and pocket monsters advanced generation. japanese films accounted for 37.5% of japan s box office total last year  with foreign films taking the remaining 62.5%. this represented a 4.5% gain for the proportion of japanese films in 2004 compared to 2003. the number of japanese films released rose to 310 in 2004 from 287 the previous year. sales of movies on dvd and video amounted to 497bn yen (£2.54bn) for the year.',\n",
       " 'kennedy predicts bigger turnout voters   pent up passion  could confound predictions of a low turnout in the coming general election  charles kennedy has said.  the liberal democrat leader predicted concerns over iraq and other international and domestic issue would express themselves during the campaign. his comments come as an inquiry looks at how best to boost voter turnouts. ex-foreign secretary robin cook said people were not apathetic but fed up of  pager politics  and not being heard. he  like mr kennedy  pointed to the hundreds of thousands of people who demonstrated against plans for the iraq war.  mr cook  who is giving evidence to the power inquiry into voter turnout rates  told bbc radio 4 s today programme it was not fair to blame the public who were  more interested in politics than ever before .  they are turned off by the way we do politics in britain. there s a message there for politicians.  he urged politicians to avoid negative campaigning and to  speak more from the heart .  we should be not so afraid to say what we stand for.  he also criticised the cult of personality politics:  there s far too much interest in celebrities.  politics are in danger of becoming another branch of the celebrity industry.  the government has tried a number of things in an attempt to boost voter turnout  which fell to 59% in the last general election in 2001. this has included bringing in directly elected mayors to head local authorities and trialling postal voting.',\n",
       " 'ocean s twelve raids box office ocean s twelve  the crime caper sequel starring george clooney  brad pitt and julia roberts  has gone straight to number one in the us box office chart.  it took $40.8m (£21m) in weekend ticket sales  according to studio estimates. the sequel follows the master criminals as they try to pull off three major heists across europe. it knocked last week s number one  national treasure  into third place. wesley snipes  blade: trinity was in second  taking $16.1m (£8.4m). rounding out the top five was animated fable the polar express  starring tom hanks  and festive comedy christmas with the kranks.  ocean s twelve box office triumph marks the fourth-biggest opening for a december release in the us  after the three films in the lord of the rings trilogy. the sequel narrowly beat its 2001 predecessor  ocean s eleven which took $38.1m (£19.8m) on its opening weekend and $184m (£95.8m) in total. a remake of the 1960s film  starring frank sinatra and the rat pack  ocean s eleven was directed by oscar-winning director steven soderbergh. soderbergh returns to direct the hit sequel which reunites clooney  pitt and roberts with matt damon  andy garcia and elliott gould. catherine zeta-jones joins the all-star cast.  it s just a fun  good holiday movie   said dan fellman  president of distribution at warner bros. however  us critics were less complimentary about the $110m (£57.2m) project  with the los angeles times labelling it a  dispiriting vanity project . a milder review in the new york times dubbed the sequel  unabashedly trivial .',\n",
       " 'carry on star patsy rowlands dies actress patsy rowlands  known to millions for her roles in the carry on films  has died at the age of 71.  rowlands starred in nine of the popular carry on films  alongside fellow regulars sid james  kenneth williams and barbara windsor. she also carved out a successful television career  appearing for many years in itv s well-loved comedy bless this house. rowlands died in hove on saturday morning  her agent said.  born in january 1934  rowlands won a scholarship to the guildhall school of speech and drama scholarship when she was just 15.  after spending several years at the players theatre in london  she made her film debut in 1963 in tom jones  directed by tony richardson. she made her first carry on film in 1969 where she appeared in carry on again doctor. rowlands played the hard-done-by wife or the put-upon employee as a regular carry on star. she also appeared in carry on at your convenience  carry on matron and carry on loving  as well as others.  in recent years she appeared in bbc mini-series the cazalets and played mrs potts in the london stage version of beauty and the beast. agent simon beresford said:  she was just an absolutely favourite client she never complained about anything  particularly when she was ill  she was an old trouper.  she was of the old school - she had skills from musical theatre and high drama  that is why she worked with the great and the good of directors.  she didn t mind always being recognised for the carry on films because she thoroughly enjoyed making them. she was a really lovely person and she will be much missed.  her last appearance on stage was as mrs pearce in the award-winning production of my fair lady at the national theatre. previously married  she leaves one son  alan. her funeral will be a private  family occasion  with a memorial service at a later date.',\n",
       " 'uk broadband gets speed injection broadband s rapid rise continues apace as speeds gear up a notch.  an eight megabit service has been launched by internet service provider uk online. it is 16 times faster than the average broadband package on the market and will pave the way for services such as video-on-demand and broadband tv. the service is possible due to a new regime which allows other operators to use bt s exchanges and will initially only be available in towns.  it represents a  big leap forward  for broadband  said chris stening  uk online general manager.  the service comes with a hefty £39.99 monthly price tag but will mean users can download mp3s in seconds and offers tv-quality video streaming. the service includes wifi as standard  meaning users can connect multiple pcs  laptops and game consoles from any room in the house. not everybody will be able to take advantage of the service  as it will be restricted to metropolitan areas. the service will initially be available to users within 2km radius of 230 telephone exchanges in areas such as london  birmingham  glasgow and cambridge. that represents about 4.4 million households. the service is possible due to a decision to loosen bt s strangle-hold on telephone exchanges.  the process  known as local loop unbundling  was put in motion by the now defunct telecoms watchdog oftel but has only proved popular in recent months due to falling costs. uk online is looking at the possibility of bundling services such as cheap net telephone calls  video-on-demand and tv by 2005 if the service proves popular.  the service is twice as fast as any other service on offer in the uk and 16 times faster than most broadband services   said mr stening.  it takes a big leap for broadband and we are very excited about it   he said. countries such as south korea and france have found the advantage of upping the speeds of broadband. in south korea  video-on-demand over the net is cheaper than renting a dvd and online gaming is huge. mr stening believes the service will appeal to people in multi-occupancy buildings as well as easing family arguments.  a typical family with two adults and two children is currently sharing a 512 kilobit service. this will basically give them 2 megabits each   he said.',\n",
       " 'lions blow to world cup winners british and irish lions coach clive woodward says he is unlikely to select any players not involved in next year s rbs six nations championship.  world cup winners lawrence dallaglio  neil back and martin johnson had all been thought to be in the frame for next summer s tour to new zealand.  i don t think you can ever say never   said woodward.  but i would have to have a compulsive reason to pick any player who is not available to international rugby.  dallaglio  back and johnson have all retired from international rugby over the last 12 months but continue to star for their club sides. but woodward added:  the key thing that i want to stress is that i intend to use the six nations and the players who are available to international rugby as the key benchmark.  my job  along with all the other senior representatives  is to make sure that we pick the strongest possible team.  if you are not playing international rugby then it s still a step up to test rugby. it s definitely a disadvantage.   i think it s absolutely critical and with the history of the lions we have got to take players playing for the four countries.  woodward also revealed that the race for the captaincy was still wide open.  it is an open book   he said.  there are some outstanding candidates from all four countries.  and following the all blacks  impressive displays in europe in recent weeks  including a 45-6 humiliation of france  woodward believes the three-test series in new zealand will provide the ultimate rugby challenge.  their performance in particular against france was simply awesome   said the lions coach.  certain things have been suggested about the potency of their front five  but they re a very powerful unit.  with his customary thoroughness  woodward revealed he had taken soundings from australia coach eddie jones and jake white of south africa following their tour matches in britain and ireland.  as a result  woodward stressed his lions group might not be dominated by players from england and ireland and held out hope for the struggling scots.  scotland s recent results have not been that impressive but there have been some excellent individual performances.  eddie in particular told me how tough they had made it for australia and i will take on board their opinions.  and scotland forward simon taylor looks certain to get the call  provided he recovers from knee and tendon problems.  i took lessons from 2001 in that they did make a mistake in taking lawrence dallaglio when he wasn t fit and went on the trip.  every player has to be looked at on their own merits and simon taylor is an outstanding player and i have no doubts that if he gets back to full fitness he will be on the trip.  i am told he should be back playing by march and he has plenty of time to prove his fitness for the lions - and there are other players like richard hill in the same boat.',\n",
       " 'protect whistleblowers  tuc says the government should change the law to give more protection to employees who raise health and safety concerns about their workplaces  the tuc has said.  it said data from employment tribunals suggested 1 500  safety whistleblowers  had lost their jobs since 1999. some firms found it cheaper to sack a worker than to improve buildings or change working conditions  it said. the health and safety executive said it was trying to get workers more involved in helping to make workplaces safer. the tuc figures were drawn from unfair dismissal cases at tribunals were health and safety were the main issue.  safety representatives were often ignored when raising concerns because there was no legal duty to respond  claimed the union organisation. general secretary brendan barber said:  it shouldn t be a firing offence to object to unsafe work.  workers should not be placed in the situation where they are forced to choose between risking their job or risking their personal health and safety.  mr barber  who said the  problem is far worse than official statistics show   called for a legal system that  protects safety whistleblowers . he added that workers who are not in a union  as well as casual and migrant workers   stand little chance of redress.   rory o  neill  editor of union-backed hazards magazine  which conducted the research  said:  giving union safety reps more rights in more workplaces is the ultimate win-win.  death and injuries at work increased last year  for the second time since the turn of the century.  it would be a fatal mistake not to take full advantage of the union safety effect.  the tuc has called on the government to appoint  roving  safety reps and to increase spending on health and safety work inspections. the health and safety executive had said that it had launched an initiative to make factories and offices safer  with more worker involvement.',\n",
       " 'speech takes on search engines a scottish firm is looking to attract web surfers with a search engine that reads out results.  called speegle  it has the look and feel of a normal search engine  with the added feature of being able to read out the results. scottish speech technology firm cec systems launched the site in november. but experts have questioned whether talking search engines are of any real benefit to people with visual impairments.  the edinburgh-based firm cec has married speech technology with ever-popular internet search. the ability to search is becoming increasingly crucial to surfers baffled by the huge amount of information available on the web.  according to search engine ask jeeves  around 80% of surfers visit search engines as their first port of call on the net. people visiting speegle can select one of three voices to read the results of a query or summarise news stories from sources such as the bbc and reuters.  it is still a bit robotic and can make a few mistakes but we are never going to have completely natural sounding voices and it is not bad   said speegle founder gordon renton.  the system is ideal for people with blurred vision or for those that just want to search for something in the background while they do something else.  we are not saying that it will be suitable for totally blind people  although the royal national institute of the blind (rnib) is looking at the technology   he added. but julie howell  digital policy manager at the rnib  expressed doubts over whether speegle and similar sites added anything to blind people s experience of the web.  there are a whole lot of options like this springing up on the web and one has to think carefully about what the market is going to be   she said.  blind people have specialised screen readers available to them which will do the job these technologies do in a more sophisticated way   she added.  the site uses a technology dubbed panavox  which takes web text and converts it into synthesised speech. in the past speech technology has only been compatible with broadband because of the huge files it downloads but cec says its compression technology means it will also work on slower dial-up connections. visitors to speegle may notice that the look and feel of the site bears more than a passing resemblance to the better known  if silent  search engine google. google has no connection with speegle and the use of bright colours is simply to make the site more visible for those with visual impairments  said mr renton.  it is not a rip-off. we are doing something that google does not do and is not planning to do and there is truth in the saying that imitation is the sincerest form of flattery   he said. speegle is proving popular with those learning english in countries such as japan and china.  the site is bombarded by people just listening to the words. the repetition could be useful although they may all end up talking like robots   said mr renton.',\n",
       " 'lennon brands rangers favourites celtic s neil lennon admits rangers could be considered  slight favourites  for the old firm cis cup clash  but insists his side can still win.  lennon concedes rangers are in good form at the moment  but they have failed to beat celtic in their last seven meetings.  rangers are on the up and have been on a good run in recent weeks   he said.  but it s a game we believe we re capable of winning if we play our best   he told the evening times.  all the boys are looking forward to it because they are brilliant games to be involved in.  without playing at the top of our game  we have still been winning matches.  at the minute  we are at the top of the league and still in with a chance of staying in europe  so i don t think it is the crisis people have been trying to make out.  of course  it is a concern when you are losing goals  because we have been notorious for being a team that is hard to beat and keeping clean sheets  but hopefully we are over that wee run.  considering we lost henrik larsson at the end of last season  we have still been scoring a lot of goals  which is pleasing.',\n",
       " 'bbc to pour £9m into new comedy the bbc is to invest £9m in developing new comedy and entertainment programmes outside london.  the changes come as part of a shake-up of several departments to create shows that appeal to a wider range of people. changes are also being made to teams in the factual and daytime departments outside london. director of television jana bennett said the changes were about  getting the best ideas on screen as efficiently and effectively as we can .  the new structure in each genre is designed to ensure that happens   she said.  a number of new roles are being created in each department  including a head of comedy commissioning based in glasgow. the new person will be in charge of the £9m budget and their role will be to develop shows outside the capital  both within the bbc and with independent production companies. jane lush  controller of entertainment commissioning  said   entertainment and comedy are incredibly important to our audiences; i m confident these changes will help us get the very best programmes on screen.  similar positions will also be created in the other departments  with the new commissioning editor for documentaries based in bristol and the daytime commissioning editor in birmingham. ms bennett said the new roles would benefit those making programmes within the bbc as well as those making shows for the channel independently.  a strong independent sector and a flourishing in-house production base are not mutually exclusive and will stimulate the competition that will deliver the best ideas to the audience   she said.',\n",
       " 'unilever shake up as profit slips anglo-dutch consumer goods giant unilever is to merge its two management boards after reporting  unsatisfactory  earnings for 2004.  it blamed the poor results on sluggish decision making  a rise in discounted retailers and a wet european summer. the company also cited difficult trading conditions and a lack of demand for goods such as its slimfast range. unilever  which owns brands including dove soap  said annual pre-tax profit fell 36% to 2.9bn euros (£1.99bn). shares fell 1% to 510.75 pence in london  and dropped by 1.2% to 50.50 euros in amsterdam.  under the restructuring plans  patrick cescau  the uk-based co-chairman  will become group chief executive. dutch co-chairman antony burgmans will take on the role of non-executive chairman.   we have recognised the need for greater clarity of leadership and we are moving to a simpler leadership structure that will provide a sharper operational focus   mr burgmans said.  we are leaving behind one of the key features of unilever s governance but this is a natural development following the changes introduced last year.  the company  which has had dual headquarters in rotterdam and london since 1930  will announce the location of its head office at a later date. unilever is not alone in trying to simplify its business. oil giant shell last year dismantled its dual-ownership structure  after a series of problems relating to the size of its oil reserves that hammered its share price and led to the resignation of key board members.  the best part of the news this morning was that the company announced a structure simplification   said arjan sweere  an analyst at petercam.  the company said the organizational changes would speed decision making  and it also may make further changes.  the company said its main focus will be on improving profits  and it is planning to accelerate and increase investment in its 400 main brands.  while it is certainly the case that markets have been tougher in the past eighteen months than we had expected  we have also lost some market share   said mr cescau.  we let a range of targets limit our ability flexibility and did not adjust our plans quickly enough to a more difficult business environment.   our objective is to reverse the share loss that we experienced in some markets in 2004 and return to growth.   unilever said european sales fell 2.8% last year  dragged down by below part sales at its beverage division  where revenues dipped by almost 4%.  sales of ice cream and frozen food dipped by 3.4% in the us last year  revenue grew by 1.5%  despite disappointing sales in slimfast   the company said. in asia  leading products came under  attack  from rivals such as procter & gamble. unilever took a 1.5bn euro one-time charge in the fourth quarter  including a 650m euro write-down on slimfast diet foods. sales of slimfast products have been hit in recent years by the popularity of the atkins diet. but looking ahead  unilever said it was optimistic about prospects for its slimming products saying that demand is on the wane for rival low-carbohydrate diets. the company also said it planned to spend 500m euros this year buying back shares.',\n",
       " 'gerrard plays down european hopes steven gerrard has admitted that liverpool have little chance of winning the champions league this season.  the 24-year-old reds skipper spoke out ahead of tuesday s first leg at home to bayer leverkusen in the last 16  which he will miss through suspension.  let s be realistic  there are some fantastic teams left in the champions league   he told bbc radio five live.  we are just going to try to stay in as long as possible but we realise that maybe it is not our year this year.  gerrard has made no secret of his desire to be involved in europe s premier club competition.  last season he described qualification for the champions league as the  be all and end all  - and rumours persist that he will leave anfield if the reds fail to secure a place in the competition. he has consistently been linked with a move away from liverpool  with chelsea the favourites to snap up the england midfielder. and blues boss jose mourinho backed gerrard s view that rafael benitez s team could struggle to progress this season.  rafa has still time in front of him to build an even better team  maybe he s a little bit behind (right now)   he told bbc radio five live.  gerrard  who fired liverpool into the last 16 of this season s competition with a brilliant goal in december s win over olympiakos  insisted he was still fully focused on helping liverpool to glory this season. the reds are currently fifth in the premiership table  five points off the crucial fourth spot  which brings champions league qualification - and they face chelsea in sunday s carling cup final.  it s big couple of months for liverpool   he added.  we re fighting for the fourth spot for the champions league for next season but we are still involved in two cup competitions  which are very important.  we are confident we can upset chelsea in the carling cup final and get to the last eight of the champions league because  financially  it is big for the club and  personally for myself  it is very good.',\n",
       " 'games firms  face tough future  uk video game firms face a testing time as they prepare for the next round of games consoles  the industry warns.  fred hasson  head of tiga  which represents independent developers  said that more uk firms would go under due to greater risks in making new titles. three leading uk video game companies also predicted that more firms would close as they struggled to adapt. microsoft  sony and nintendo are expected to release new consoles in the next 18 months. microsoft has said repeatedly that it wants to be first to the market and some analysts predict that xbox 2 will be released in the us before the end of 2005.  the new machines will all have much greater processing and graphical power which will have a huge impact on development of next generation games. mr hasson said:  in the last four years we have probably lost a third of independent developers.  he said there were about 150 independent developers left in the industry and more were likely to close.  once the cull has finished its likely to present those still standing with great opportunities   he said.  mr hasson said the industry was predicting that developments costs and teams were likely to need to double in order to cope with the demands of the new machines. that figure was endorsed by three independent companies contacted by the bbc news website - codemasters  climax and rebellion.   as consoles get more powerful  the content gets more detailed and that means more cost   said gary dunn  development director at codemasters  which develops games in house and also publishes titles. jason kingsley  chief executive of rebellion  said the transition from the current generation of consoles to the new machines was difficult because  the production quality expected by consumers will be that much bigger . he added:  we have been through five technology transitions and survived so far.  each one has involved the death of some people. all companies said they were investing in new tools - called middleware - in order to try and avoid staff numbers spiralling out of control.  simon gardner  president of climax s action studio  said:  we are investing in superior tools and editors. we are investing upfront to generate this content without the need for huge teams.  it s vital we avoid huge teams.  he said climax was already directing about 20% of its resources to preparation for next generation titles. mr dunn warned that companies could face a short supply of programming  development and artistic talent.  if companies are hiring bigger and bigger teams  at some point the talent is going to run out.  mr hasson said games developers were beginning to realise that they had to be more  business-like .  there are still some developers who were involved in games from the bedroom coding days.  some of them are still making games for peer group approval - that has to stop.',\n",
       " 'pearce keen on succeeding keegan joint assistant boss stuart pearce has admitted he would like to succeed kevin keegan as manager at manchester city.  keegan has decided to step down as city manager when his contract comes to an end in 18 months.  you don t have to be einstein to realise there will be a manager s job available at a really good club   pearce told bbc gmr.  i will certainly be applying for it  although whether the board deem me good enough to take it  i do not know.  pearce initially joined city as a player under keegan in 2001 before becoming part of the coaching staff. he was promoted to joint assistant-manager following the departure of arthur cox last summer.  the former england defender had a year as player-boss with nottingham forest eight seasons ago but has made no secret of his desire to have another crack at the job. he was linked with the manager s job at oldham and keegan has stated he would not get in the way if pearce wanted to leave. but it now appears pearce is keen to wait for his chance at city. he added:  by that time  i will have been here for five years so at least they will have had a good look at me and they are aware of my feelings with regard to being kevin s successor.  obviously  the issue is out of my hands but it is a fantastic job for anybody - i just hope it will be me.',\n",
       " 'cactus diet deal for phytopharm a slimming aid made from a southern african cactus is set to be developed by uk firm phytopharm and unilever.  anglo-dutch food giant unilever will help the pharmaceutical firm develop the snacks containing hoodia extract. phytopharm shares jumped 10.7% on the news  with analysts saying sales of $600m (£309m) a year were possible. the plant  licensed to phytopharm in 1997  has been used for thousands of years by the sans bushmen of the kalahari desert to stave off hunger. studies have reportedly shown the plant curbs appetite instead of reducing calorific intake like many existing products.  phytopharm will receive an initial fee of £6.5m from unilever - out of a potential total of £21m - as well as future royalties on product sales. under the deal  production of the hoodia cactus at phytopharm s nursery in south africa will also rise from eight million plants to potentially hundreds of millions  said phytopharm chief executive richard dixey. the firm had initially hoped to market a slimming drug from hoodia with pfizer. but the research collaboration came to an end in 2003. analysts said unilever could launch the new products in 2007.  this deal goes a long way to restoring the market faith in phytopharm s pipeline after the pfizer exit   said analyst erling refsum at nomura.',\n",
       " 'conservative backing for id cards the tories are to back controversial government plans to introduce id cards.  the shadow cabinet revealed its support ahead of next week s commons vote on a bill to introduce compulsory id. the decision follows a  tough meeting  where some senior tories argued vociferously against the move  party sources told the bbc. the bill  which ministers claim will tackle crime  terrorism and illegal immigration  is expected to be opposed by the liberal democrats.  they have said the scheme is  deeply flawed  and a waste of money. sources within the conservative party told the bbc michael howard has always been in favour of id cards  and tried to introduce them when he was home secretary. the party has been  agnostic  on the issue until now but had now decided to come off the fence  the tory source said. despite giving their backing to id cards  the conservatives insisted they would hold ministers to account over the precise purpose of the scheme.  they said they would also press labour over whether objectives could be met and whether the home office would deliver them. and they pledged to assess the cost effectiveness of id cards and whether people s privacy would be properly protected.  it is important to remember that this bill will take a decade to come into full effect   a spokesman said.  it will do nothing to solve the immediate problems of rising crime and uncontrolled immigration.   lib dem home affairs spokesman mark oaten said:  this has all the signs of michael howard overruling colleagues  concerns over id cards.  the tories should have the courage to try and change public opinion not follow it.  the new chairman of the bar council  guy mansfield qc warned there was a real risk that people on the  margins of society  would be driven into the hands of extremists.  what is going to happen to young asian men when there has been a bomb gone off somewhere  they are going to be stopped. if they haven t [id cards] they are going to be detained.',\n",
       " 'buffy creator joins wonder woman the creator of buffy the vampire slayer is to take on a new female superhero after signing up to write and direct the wonder woman movie.  joss whedon described the dc comics character as  the most iconic female heroine of our time .  in a way  no one has met her yet   he said.  what i love most about icons is finding out what s behind them  exploring the price of their power.  linda carter played the character in the 1970s tv series. the character of wonder woman  famed for her red and gold costume  was born on paradise island  and was blessed with the powers of strength and flight. the film is being produced by joel silver  producer of the matrix trilogy.   there s no one better than joss to adapt the legendary wonder woman comic book character created in the 1940s into a dynamic feature film for 21st century audiences   said silver.  wonder woman was the first great female superhero to emerge from comic books and later inspire millions of fans in her television incarnation... but this groundbreaking heroine has yet to be reinvented for the feature film arena.  whedon created the character of buffy in the screenplay for the 1992 film. he distanced himself from the movie because of the direction it eventually took  and the film bombed. but he did not give up on the slayer and went on to write and executive produce seven seasons of the cult tv series. he also produced the spin-off angel series. he is currently directing the film serenity  based on his short-lived sci-fi series firefly.',\n",
       " 'playstation 3 processor unveiled the cell processor  which will drive sony s playstation 3  will run 10-times faster than current pc chips  its designers have said.  sony  ibm and toshiba  who have been working on the cell processor for three years  unveiled the chip on monday. it is being designed for use in graphics workstations  the new playstation console  and has been described as a supercomputer on a chip. the chip will run at speeds of greater than 4 ghz  the firms said. by comparison  rival chip maker intel s fastest processor runs at 3.8 ghz. details of the chip were released at the international solid state circuits conference in san francisco. the new processor is set to ignite a fresh battle between intel and the cell consortium over which processor sits at the centre of digital products. the playstation 3 is expected in 2006  while toshiba plans to incorporate it into high-end televisions next year. ibm has said it will sell a workstation with the chip starting later this year.  cell is comprised of several computing engines  or cores. a core based on ibm s power architecture controls eight  synergistic  processing centres. in all  they can simultaneously carry out 10 instruction sequences  compared with two for current intel chips.  later this year  intel and advanced micro devices plan to release their own  multicore  chips  which also increase the number of instructions that can be executed at once. the cell s specifications suggest the playstation 3 will offer a significant boost in graphics capabilities but analysts cautioned that not all the features in a product announcement will find their way into systems.  any new technology like this has two components   said steve kleynhans  an analyst with meta group. he said:  it has the vision of what it could be because you need the big vision to sell it.  then there s the reality of how it s really going to be used  which generally is several levels down the chain from there.   while the playstation 3 is likely to be the first mass-market product to use cell  the chip s designers have said the flexible architecture means that it would be useful for a wide range of applications  from servers to mobile phones. initial devices are unlikely to be any smaller than a games console  however  because the first version of the cell will run hot enough to need a cooling fan. and while marketing speak describes the chip as a  supercomputer  - it remains significantly slower than the slowest computer on the list of the world s top 500 supercomputers. ibm said cell was  os neutral  and would support multiple operating systems simultaneously but designers would not confirm if microsoft s windows was among those tested with the chip. if cell is to challenge intel s range of chips in the marketplace  it will need to find itself inside pcs  which predominantly run using windows.',\n",
       " 'search wars hit desktop pcs another front in the on-going battle between microsoft and google is about to be opened.  by the end of 2004 microsoft aims to launch search software to find any kind of file on a pc hard drive. the move is in answer to google s release of its own search tool that catalogues data on desktop pcs. the desktop search market is becoming increasingly crowded as google  aol  yahoo and many smaller firms tout programs that help people find files.  microsoft made the announcement about its forthcoming search software during a call to financial analysts to talk about its first quarter results. john connors  microsoft s chief financial officer said a test version of its desktop search software should be available for download by the end of the year.   we re going to have a heck of a great race in search between google  microsoft and yahoo   he said.  it s going to be really fun to follow.  microsoft is coming late to the desktop search arena and its software will have to compare favourably with programs from a large number of rivals  many of which have fiercely dedicated populations of users. the program could be based on the software microsoft owns as a result of its purchase of lookout software in early october. on 14 october google released desktop search software that catalogues all the files on a pc and lets users use one tool to find e-mail messages  spreadsheets  text files and presentations. the software will also find webpages and messages sent via aol instant messenger.  many other firms have released desktop search systems recently too. companies such as blinkx  copernic  enfish x1 technologies and x-friend all do the same job of cataloguing the huge amounts of information that people increasingly store on their desktop or home computer.  apple has also debuted a similar search system for its computers called spotlight that is due to debut with the release of the tiger operating system. due to follow are net giants aol and yahoo. the latter recently bought stata labs to get its hands on search software that people can use. microsoft is also reputedly working on a novel search system for the next version of windows (codenamed longhorn). however this is not likely to appear until 2006.  the recent activity in the search industry shows that there is a need to move beyond simple keyword-based web search   said kathy rittweger  co-founder of blinkx.  finding information of our own computers is becoming as difficult as it is to find the relevant webpage amongst the billions that exist.   desktop search has become important for several reasons. according to research by message analysts the radicati group up to 45% of the information critical to keeping many businesses running sits in e-mail messages and attachments. jf sullivan  spokesman for e-mail software firm sendmail said many organisations were starting to realise how important messaging was to their organisation and the way the work.  the key thing is being able to manage all this information   he said. also search is increasingly key to the way that people get around the internet. many people use a search engine as the first page they go to when getting on the net. many others use desktop toolbars that let them search for information no matter what other program they are using. having a tool on a desktop can be a lucrative way to control where people go online. for companies such as google which relies on revenue from adverts this knowledge about what people are looking for is worth huge amounts of money. but this invasiveness has already led some to ask about the privacy implications of such tools.',\n",
       " 'podcasters  look to net money nasa is doing it  14-year-old boys in bedrooms are doing it  couples are doing it  gadget lovers - male and female - are definitely doing it.  it is podcasting - diy radio in the form of downloadable mp3 audio files. they can done by anyone who has a microphone  simple software  the net  and something to say. some liken them to talking  audioblogs  because many complement text-based weblogs - diary-like sites where people share their thoughts. they are essentially amateur radio shows on the net  on demand  and the  movement  is at very early stages.  it s about real people saying real things and communicating   says adam curry  former mtv vj and the pied piper of podcasting. he was one of a community of people who created ipodder  a small computer program  known as an  aggregator .  it collects and automatically sends mp3 files to any digital music-playing device that can play wmp formats. those with digital music players can select which podcasts they like  and subscribe - for free - to that show s  feed . when a new podcast is available  it is automatically sent to the device when connected to a computer.  it is totally going to kill the business model of radio   thinks curry.  i just did a tour of madison avenue where all the big brands and advertising agencies of the world are   he says.  and they are scared to death of the next generation - like my daughter who is 14 - who don t listen to radio.  they are on msn  they ve got their ipod  their mp3 player  they ve got their xbox - they are not listening to radio.  so how are they going to reach these audiences   it is the distribution that is changing and the barriers are being brought down so everyone can be part of it.   it is a fledgling movement  but it is gaining momentum now that people have started thinking about how to make a business from it. ian fogg  jupiter research analyst  thinks there could be potential for business  but it could take an interesting turn if big companies  like apple and microsoft  get involved.  it is a nascent area but quite exciting. it is yet another area that demonstrates the move to a digital lifestyle and digital home is not over   he says.   podcasting is one of those interesting areas that bridges what you do at home and what you do out and about - a classic hybrid. it is another aspect of the  time-shifting  of content - the latest industry buzzword for being able to listen to what you want  when  and wherever you want. audiences are in the 10s  100s  and 1 000s rather than millions. more than 4 300 podcasts are currently listed. curry s daily source code - which he committed to doing daily to inspire the community - has 10s of thousands of listeners.  but dave winer is doubtful. he designed the format called rss (really simple syndication)  which gives web users an easy way to keep updated automatically on sites they like. podcasts rely on his technology because it is the way they are distributed. he is also writer of the longest-running weblog on the net  scripting news. he thinks its power lies in its democratising potential  not in its  over-hyped  business promise.   we re the sources  the people doing stuff  and podcasting is a way to tell people who care what we re doing.  no matter how you look at it  commercialising this medium isn t going to make very much money   he says.  podcasting is going to be a medium of niches  with  audiences  measured in the single digits  like e-mail or blogs.  maybe in a few years  maybe six or seven digits. but it will have to sustain interest beyond the hype balloon.  curry and associate ron bloom s new venture  called podshow  is to help ordinary people produce  post  distribute and market their podcasts. because of the way podcasts work  based on rss  the latest podcasts which people can select mean that they are ready-made targets.  when you look at podcasting - wow this is a pretty interesting audience. the audience is pre-selected. they have decided to subscribe to your program   explains curry. advertising  in his eyes  can be tailored to podcasts  to make it more imaginative and unobtrusive.  how i believe this will work  is to create a network that  in aggregation  will have enough numbers to support a return on investment for the advertisers and for the podcasters.  i have 50  60  70 000 listeners. i could make a couple of bucks off that  but not much. if you are talking a million podcasters  and then you can kind of divide that amongst ourselves  then that is kind of interesting.  essentially  he says  if you are doing a bass fishing podcast  someone who is selling bait and tackle will probably want to advertise on your show. he is clear the ads will not be the traditional  in-your-face  type familiar to commercial radio now.  we are really going to see these microcosms and commerce will be all over the place.   it is happening already. coffee-loving curry has sold $4 000 worth of coffee machines through a referral link to amazon from his site.  others use in-show promotions  like the dawn and drew show. one  eric rice  has won sponsorship from warner bros. he can now legally play the music of a band warner bros wants to push. some commentators on the net say it has a similar feel to the dotcom days. others say it is just another element of setting media free from big companies and letting people be creative. one thing is for sure; they are not about to disappear in a hurry. the creative forces behind radio are elated  says curry. for now  he tunes out the negative comments within the podcasting community.  i should be knighted for this   he adds  with a wry chuckle   people are going to be so happy to sit at home  make their podcast  and make a little money.',\n",
       " 'apple mac mini gets warm welcome the mac mini has been welcomed by apple fans  industry experts and pc users.  the release of the tiny  low-cost machine is seen as a good move for apple which currently has a small share of the desktop computer market. mac watchers and some analysts say the mac mini will go a long way to help apple appeal to the mass of consumers. they speculate that the mac mini will be bought by ipod owners and those wanting an easy-to-use and administer second home computer.   it s the bravest move they have made yet   said jonny evans  news editor at macworld magazine. mr evans said the combination of low cost  small size and huge numbers of ipod users could make it a big success.  he thought that the machine would appeal to those that like apple technology but who before now have balked at paying high prices for its hardware.  it s deeply affordable   he said.  plus you know that you do not get viruses or all of the associated problems.  already  he said  pc owning friends had declared that they would be buying one. interest in the new products launched at macworld expo was so strong that websites for apple s store and the show struggled to cope with demand. according to response statistics gathered by netcraft many visiting the apple store in the wake of mr jobs  speech suffered lengthy response times. the macworld expo site was completely overwhelmed and went offline.   i think fundamentally it s a good idea because it s cheap even for a pc   said nick ross  deputy labs editor at pc pro. apple s work on making things easy to use would also help the mac mini win fans  he said.  i think people expect it just to work now and really it should   hesaid. the mac mini could find a role in homes that need a second computer that is easy to install and administer  he said.  for browsing the web  e-mail and all kinds of basic duties it s going to be absolutely adequate   said mr ross. ian fogg  broadband and personal technology analyst at jupiter research  agreed that the mac mini could be very popular.  apple has been hoping that sales of the ipod will have a halo effect on the sales of the mac   he said.  before now  he said  apple has been seen as a premium brand. but  he said  the mac mini changed that perception.  it s a particularly good price when you see that it s apple that is doing it   he said. apple expects the mac mini to sell for £339 in the uk and $499 in the us. adding extras such as a larger hard drive  more memory and networking options will increase the basic price. it will go on sale from 22 january.  for consumers interested in style  design and small size - which is what the majority of ipod customers are interested in - it s a natural next step   said mr fogg. apple has traditionally done well in the market that the mac mini is aimed at  said mr fogg  who also expected many pc makers to release copycat devices in reaction.  his only misgivings were over how easy other consumers  other than ipod owners  would find using the machine. he said anyone wanting to use the mac mini with the peripherals from an old computer may find it odd to have something so small and sleek next to a hulking monitor.  they d be much more likely to pair a mac mini with a lcd or flat panel monitor which increases the upgrade cost   he said. those with flat screens and lcd monitors are likely to have bought them recently and not be in the market for a new machine.  there are also questions over whether the mac mini will work with very old peripherals  such as display  keyboard and mouse. the mac mini also fell short of being a media server that can be a video recorder as well as a store for all the digital music  movies and images people accumulate  said mr fogg.  the mac mini is not quite ready for that yet   he said.  it does not have the right connectors that fit a tv screen or enough storage.  said mr fogg:  it s very much a computer.  one dissenting opinion came from brian gammage  vice-president of research at analysts gartner. he said:  i don t think it changes the world.  although the mac mini was very cheap for an apple computer  it was still expensive compared to many pcs. also  he said  it appealed in categories that few consumers care about when buying a home computer.  the pc world is a pile-em-high  sell-em-cheap market   he said   and all of them are pretty interchangeable.   since the days when apple ruled the personal computing world its market share has been on a long  slow decline   he said.  every few years it does something to give its market share a kick then it starts to go back down again   said mr gammage. the release of the mac mini fit perfectly with this trend  he said.',\n",
       " 'dozens held over id fraud site twenty-eight people  including a briton  have been arrested after a global operation against a website allegedly involved in identity fraud.  those arrested are accused of operating shadowcrew.com  which investigators claim was a global clearing house for criminals involved in credit card fraud. a 19-year-old man from camberley  surrey  was arrested by the national hi-tech crime unit but has been bailed. operation firewall  led by the us secret service  involved seven nations. the british teenager was arrested on wednesday but details only emerged on friday. he has now been bailed to return to a surrey police station in december. all 28 people detained globally are suspected of being involved in an internet-based network which stole people s identities and used computers and websites to defraud credit card companies. the authorities in the us  who have indicted 19 people in newark  new jersey  estimate the fraud caused losses of more than $4m. assistant us attorney scott christie said several people had been arrested in argentina  bulgaria  canada  estonia  poland and sweden. mr christie said one of the ringleaders was believed to be a russian  anatoly tyukanov.  investigators from 30 law enforcement agencies worldwide spent 15 months looking into the activities of three websites - shadowcrew  carderplanet and darkprofits. the us secret service was first tipped off in july 2003. an nhtcu spokeswoman said the american investigators went undercover on the shadowcrew website and discovered some of the site s 4 000 members were using it for organised crime purposes.  she said criminals were using the websites to traffic counterfeit credit cards and false identification information and documents such as credit cards  driver s licences  passports and birth certificates. the websites shared tips on how to commit fraud and provided a forum by which people could buy the information and tools they needed to commit such crime  she said. the shadowcrew site  which has now been taken over by the us secret service  listed several discussion groups  in english and russian  including one on hacking  spam and online anonymity tools. the head of the nhtcu  acting detective chief superintendent  mick deats  said:  this investigation has resulted in the significant disruption of organised criminals using the internet for profit.   we believe that the suspects have trafficked at least 1.7 million stolen credit card numbers  leading to losses by financial institutions running into the millions.  chief supt deats went on to warn:  the internet offers huge legitimate benefits for modern society; however with it brings powerful opportunities for those seeking to abuse those benefits for criminal gain.  your identity is one of the most precious commodities. criminals who try to steal the personal and financial information of ordinary citizens as well as the confidential and proprietary information of companies engaged in e-commerce  will be targeted by law enforcement.',\n",
       " 'europe backs digital tv lifestyle how people receive their digital entertainment in the future could change  following the launch of an ambitious european project.  in nice last week  the european commission announced its networked & electronic media (nem) initiative. its broad scope stretches from the way media is created  through each of the stages of its distribution  to its playback. the commission wants people to be able to locate the content they desire and have it delivered seamlessly  when on the move  at home or at work  no matter who supplies the devices  network  content  or content protection scheme. more than 120 experts were in nice to share the vision of interconnected future and hear pledges of support from companies such as nokia  intel  philips  alcatel  france telecom  thomson and telefonica. it might initially appear to be surprising that companies in direct competition are keen to work together. but again and again  speakers stated they could not see incompatible  stand-alone solutions working. a long-term strategy for the evolution and convergence of technologies and services would be required.  the european commission is being pragmatic in its approach. they have identified that many groups have defined the forms of digital media in the areas that nem encompasses. the nem approach is to take a serious look at what is available and what is in the pipeline  pick out the best  bring them together and identify where the gaps are. where it finds holes  it will develop standards to fill them. what is significant is that such a large and powerful organisation has stated its desire for digital formats to be open to all and work on any gadget. this is bound to please  if not surprise  many individuals and user organisations who feel that the wishes of the holder of rights to content are normally considered over and above those of the consumer. many feel that the most difficult and challenging area for the commission will be to identify a solution for different digital rights management (drm) schemes. currently drm solutions are incompatible  locking certain types of purchased content  making them unplayable on all platforms. with the potential of having a percentage of every media transaction that takes place globally  the prize for being the supplier of the world s dominant drm scheme is huge. although entertainment is an obvious first step  it will encompass the remote provisions of healthcare  energy efficiency and control of the smart home. the 10-year plan brings together the work of many currently running research projects that the ec has been funding for a number of years.  simon perry is the editor of the digital lifestyles website  which covers the impact of technology on media',\n",
       " 'kennedy predicts bigger turnout voters   pent up passion  could confound predictions of a low turnout in the coming general election  charles kennedy has said.  the liberal democrat leader predicted concerns over iraq and other international and domestic issue would express themselves during the campaign. his comments come as an inquiry looks at how best to boost voter turnouts. ex-foreign secretary robin cook said people were not apathetic but fed up of  pager politics  and not being heard. he  like mr kennedy  pointed to the hundreds of thousands of people who demonstrated against plans for the iraq war.  mr cook  who is giving evidence to the power inquiry into voter turnout rates  told bbc radio 4 s today programme it was not fair to blame the public who were  more interested in politics than ever before .  they are turned off by the way we do politics in britain. there s a message there for politicians.  he urged politicians to avoid negative campaigning and to  speak more from the heart .  we should be not so afraid to say what we stand for.  he also criticised the cult of personality politics:  there s far too much interest in celebrities.  politics are in danger of becoming another branch of the celebrity industry.  the government has tried a number of things in an attempt to boost voter turnout  which fell to 59% in the last general election in 2001. this has included bringing in directly elected mayors to head local authorities and trialling postal voting.',\n",
       " 'van gogh festival film withdrawn murdered director theo van gogh s controversial film submission has been pulled from the rotterdam film festival because of security fears.  it was one of three of his works to be shown as part of a freedom of expression event in tribute to the late film-maker s life. the film is critical of the treatment of women under islam. its tv screening is thought to have led to his murder. the 10-day dutch festival begins on wednesday. submission was made with liberal somali-dutch politician ayaan hirsi ali and was due to be shown on 30 january. van gogh was shot and stabbed to death in november 2004 several months after receiving death threats following submission s first broadcast on dutch television. two of van gogh s other films will be shown as planned  including the theatrical world premiere of his last feature 06/05.  festival director sandra den hamer said:  the festival reflects what happens around us and within cinema itself.  the festival opens with the french film the 10th district court  moments of trials made by raymond depardon. the event sees 14 films competing to win three top tiger awards which aim to introduce promising new talent. new sections added to this year s festival include cinema of the future and cinema of the world  with special focus on russian and south-east asian productions. there is also an iraqi-german offering entitled underexposure  which looks at life in iraq after saddam hussein.',\n",
       " 'chancellor rallies labour voters gordon brown has issued a rallying cry to supporters  warning the  stakes are too high  to stay at home or protest vote in the next general election.  the chancellor said the poll - expected to fall on 5 may - would give a  clear and fundamental  choice between labour investment and tory cuts. he told his party s spring conference the tories must not be allowed to win. the conservatives and lib dems insisted that voters faced higher taxes and means-testing under labour.  to a packed audience at gateshead s sage centre  mr brown accused shadow chancellor oliver letwin of plotting cuts that were the equivalent of sacking every teacher  gp and nurse in the country. laying into the conservative s record in government he said:  i give you this promise - with labour  britain will never return to the mistakes of erm and 10% inflation  15% interest rates  £3bn in lost reserves  250 000 repossessed  one million in negative equity and three million unemployed.  never again tory boom and bust.   this will be the central dividing line at the election  between a conservative party taking britain back and planning deep cuts of £35bn in our services  and a labour government taking britain forward  which on a platform of stability will reform and renew our hospitals  schools and public services and  i am proud to say  spend by 2008 £60bn more.  turning to the economy  the chancellor promised to continue economic stability and growth in a third term in power.  he also pledged to continue the fight against child and pensioner poverty. and he promised help to get young people on the property ladder.  my message to the thousands of young couples waiting to obtain their first home is that housing is rightly now at the centre of our coming manifesto   he said.  and the next labour government will match our low mortgage rates with a new first-time buyers  initiative.  in the speech  which prompted a standing ovation  he also promised to end teenage unemployment within the next five years.  he also highlighted plans for 100% debt relief for the world s poorest countries  a national minimum wage for 16 and 17-year-olds  the creation of a network of children s centres and flexibility in maternity leave. responding to the speech  shadow chief secretary to the treasury  george osborne  said:  this was more talk from gordon brown.  we ve heard it all before. instead of talking about the future he kept on talking about the past.  he completely failed to say which taxes he would put up to fill the black hole in his spending plans.  there will be a simple choice at the election - value for money and lower taxes with the conservatives  or more waste and higher taxes under tony blair and gordon brown.   liberal democrat shadow chancellor vince cable warned the picture was not as rosy as mr brown would like to portray it.  for all his trumpeting of labour s management of the economy  gordon brown s record is very mixed   he said.  gordon brown has created a system of massive centralisation and bureaucracy  a system which subjects millions of people to means testing  and a system of taxation which is extremely complex.  for all his positive words  gordon brown is faced with economic problems looming on the horizon  not least the unprecedented levels of personal debt facing the nation.  also in gateshead  the prime minister took questions sent in by e-mail  text message and telephone as part of labour s attempt to engage the public in their campaign. mr blair told the audience he believed the iraq war would have made britain a safer place if its emerging democracy succeeded and that he wanted to bring troops home as soon as possible  but not before the job was done. he also said he wanted to carry on as pm  because i still think that there are big changes our country needs .',\n",
       " 'microsoft sets sights on spyware windows users could soon be paying microsoft to keep pcs free of spyware.  following the takeover of anti-spyware firm giant  microsoft said it would soon release a toolkit that strips machines of the irritating programs. although initially free  microsoft has not ruled out charging people who want to keep this toolkit up to date. surveys show that almost every windows pc is infested with spyware programs that do everything from bombard users with adverts to steal login data. microsoft said that a beta version of the toolkit to clean up windows machines should be available within 30 days.  designed for pcs running windows 2000 and xp  the utility will clean out spyware programs  constantly monitor what happens on a pc and will be regularly updated to catch the latest variants. before now many of microsoft s other security boosting programs  such as the firewall in windows xp  have been given away free. but mike nash  vice president in microsoft s security business unit  said it was still working out pricing and licensing issues. charging for future versions has not been discounted  he said.  we ll come up with a plan and roll that out   he said. the plan could turn out to be a lucrative one for microsoft. a recent survey by earthlink and webroot found that 90% of pcs are infested with the surreptitious software and that  on average  each one is harbouring 28 separate spyware programs. currently users wanting protection from spyware have turned to free programs such as spybot and ad-aware. spyware comes in many forms and at its most benign exploits lazy browsing habits to install itself and subject users to unwanted adverts. other forms hijack net browser settings to force people to view pages they would otherwise never visit. at its most malign  spyware watches everything that people do with their pc and steals login information and other personal data. microsoft s announcement about spyware comes after it bought small new york software firm giant company software. terms of the acquisition were not disclosed.',\n",
       " 'savvy searchers fail to spot ads internet search engine users are an odd mix of naive and sophisticated  suggests a report into search habits.  the report by the us pew research center reveals that 87% of searchers usually find what they were looking for when using a search engine. it also shows that few can spot the difference between paid-for results and organic ones. the report reveals that 84% of net users say they regularly use google  ask jeeves  msn and yahoo when online.  almost 50% of those questioned said they would trust search engines much less  if they knew information about who paid for results was being hidden. according to figures gathered by the pew researchers the average users spends about 43 minutes per month carrying out 34 separate searches and looks at 1.9 webpages for each hunt. a significant chunk of net users  36%  carry out a search at least weekly and 29% of those asked only look every few weeks. for 44% of those questioned  the information they are looking for is critical to what they are doing and is information they simply have to find.  search engine users also tend to be very loyal and once they have found a site they feel they can trust tend to stick with it. according to pew research 44% of searchers use just a single search engine  48% use two or three and a small number  7%  consult more than three sites. tony macklin  spokesman for ask jeeves  said the results reflected its own research which showed that people use different search engines because the way the sites gather information means they can provide different results for the same query. despite this liking for search sites half of those questioned said they could get the same information via other routes. a small number  17%  said they wouldn t really miss search engines if they did not exist. the remaining 33% said they could not live without search sites. more than two-thirds of those questioned  68%  said they thought that the results they were presented with were a fair and unbiased selection of the information on a topic that can be found on the net. alongside the growing sophistication of net users is a lack of awareness about paid-for results that many search engines provide alongside lists of websites found by indexing the web. of those asked  62% were unaware that someone has paid for some of the results they see when they carry out a search. only 18% of all searchers say they can tell which results are paid for and which are not. said the pew report:  this finding is ironic  since nearly half of all users say they would stop using search engines if they thought engines were not being clear about how they presented paid results.  commenting mr macklin said sponsored results must be clearly marked and though they might help with some queries user testing showed that people need to be able to spot the difference.',\n",
       " 'moore questions captaincy brian moore believes the england captain should not be a full-back.  jason robinson has led the team during their opening three defeats in the six nations tournament  in the absence of fly-half jonny wilkinson. the world champions have struggled since the retirement of former captain martin johnson  a lock forward. and former england captain moore told the bbc:  full-backs are too far away from the action. that s not a reflection on robinson personally.  he added:  i just think the point of influence needs to move closer to the pack - which is  after all  where games usually start and finish.  moore says a lack of cohesion in the forwards is one of the reasons why england have lost against wales  france and ireland in this year s tournament.  assertiveness in the pack isn t there  we re not getting enough people into the breakdowns   he explained.  wer e not getting quick ball  which means the backs are being stifled. their creativity depends on quick ball and we re not getting that.   with injuries depriving him of key players like wilkinson  coach andy robinson has given youngsters such as harry ellis and jamie noon a chance. and moore believes the last two games against italy and scotland are a good opportunity to experiment further.  the problem is the players that are around to replace the icons which have been lost because of retirement and injury don t have the requisite experience   moore added.  you can t do anything about that but play them. there are players who have been knocking on the door  it s time for them to be looked at in these last two games because there s nothing on them.  we then go into next season with a greater certainty of who can and cannot handle the pressure of international rugby.',\n",
       " 'security warning over  fbi virus  the us federal bureau of investigation is warning that a computer virus is being spread via e-mails that purport to be from the fbi.  the e-mails show that they have come from an fbi.gov address and tell recipients that they have accessed illegal websites. the messages warn that their internet use has been monitored by the fbi s internet fraud complaint center. an attachment in the e-mail contains the virus  the fbi said. the message asks recipients to click on the attachment and answer some questions about their internet use. but rather than being a questionnaire  the attachment contains a virus that infects the recipient s computer  according to the agency. it is not clear what the virus does once it has infected a computer. users are warned never to open attachment from unsolicited e-mails or from people they do not know.   recipients of this or similar solicitations should know that the fbi does not engage in the practice of sending unsolicited e-mails to the public in this manner   the fbi said in a statement. the bureau is investigating the phoney e-mails. the agency earlier this month shut down fbi.gov accounts  used to communicate with the public  because of a security breach. a spokeswoman said the two incidents appear to be unrelated.',\n",
       " 'man utd to open books to glazer manchester united s board has agreed to give us tycoon malcolm glazer access to its books.  earlier this month  mr glazer presented the board with detailed proposals on an offer to buy the football club. in a statement  the club said it would allow mr glazer  limited due diligence  to give him the opportunity to take the proposal on to a formal bid. but it said it continued to oppose mr glazer s plans  calling his assumptions  aggressive  and his plan  damaging . many of manchester united s supporters own shares in the club  and the fan-based group shareholders united is strongly opposed to any takeover by mr glazer. about 300 fans protested outside the old trafford ground two days ago.  rival local club manchester city has pleaded with visiting fans not to protest inside its ground when the two teams play a televised match on sunday.  manchester united s response comes as little surprise  as the board made clear.  any board has a responsibility to consider a bona fide offer proposal   the club said in its statement. should it become a firm offer  it should be at a price that  the board is likely to regard as fair  and on terms which  may be deliverable . but it also stressed that it stayed opposed to mr glazer s proposal.  the board continues to believe that mr glazer s business plan assumptions are aggressive   the statement said   and the direct and indirect financial strain on the business could be damaging.  whether or not the bid is attractive in monetary terms  in the case of manchester united many investors hold the stock for sentimental rather than financial reasons. at present  mr glazer and his family hold a 28.1% stake  making them manchester united s second biggest shareholders. they own the successful tampa bay buccaneers american football team based in florida. if the family makes a formal offer  they will need the support of the club s biggest shareholders.  irish horse racing millionaires jp mcmanus and john magnier own 29% of united through their investment vehicle cubic expression  and have yet to express a view on the bid approach.  a group of five mps are calling on the department of trade and industry to block any takeover of the club by the us football magnate on public interest grounds. they have signed a house of commons motion  and tony lloyd  the manchester central mp  whose constituency includes the club s old trafford ground  has pledged to take the matter  to tony blair if necessary . the commons motion says  any takeover designed to transform the club into a private company would be against the interests of those supporters and football . however  the dti has dismissed the proposal. a spokesman said the department did not believe there was a case for changing the enterprise act so that takeovers of football clubs could be looked at on non-competition grounds. mr glazer s offer values the club at £800m ($1.5bn). pitched at 300p per share  it also relies less on debt to finance it than an earlier approach from the us tycoon  which was rejected out of hand. manchester united shares closed at 270.25p on friday  down 3.75p on the day.',\n",
       " 'imf  cuts  german growth estimate the international monetary fund is to cut its 2005 growth forecast for the german economy from 1.8% to 0.8%  the financial times deutschland reported.  the imf will also reduce its growth estimate for the 12-member eurozone economy from 2.2% to 1.6%  the newspaper reported. the german economy has been faltering  with unemployment levels rising to a seventy-year high of 5.2 million. its sluggish performance continues to hamper the entire eurozone.  the imf s draft world economic outlook - due to be published in april - would point to a marked deterioration in germany s economy  the ft report said.  in september  the imf had said that german growth for the current year would be 1.8%. the imf has also revised eurozone forecasts  the paper said  taking into account high oil prices  the strength of the euro and weak demand in many of the world s leading economies. europe s economic difficulties have been highlighted by the organisation for economic co-operation and development  which argued in a report published on tuesday that the continent could only achieve us living standards by freeing up its labour markets.  the eurozone does not look like it has a self-sustaining recovery   james carrick  an economist with abn amro  told the newspaper.  it is too dependant on the rest of the world.',\n",
       " 'incredibles win animation awards the incredibles movie has beaten shrek 2 to the main prizes at hollywood s animation awards  the annies.  the superhero film was named best animated feature while brad bird won best director  writer and voice actor for his role as designer edna mode. the incredibles won a total of 10 awards - but shrek 2  which had seven nominations  went home empty-handed. the two movies will compete with shark tale in the best animated film category of the oscars at the end of february.  the incredibles  awards came despite shrek 2 s greater box office success. shrek 2 took $881m (£468m) around the world  compared with $576m (£306m) for the incredibles. spongebob squarepants was named best animated tv show while tv comedy king of the hill picked up two prizes including one for actress brittany murphy s voice work. tom kenny  who provides the voice for spongebob squarepants  hosted sunday s ceremony at the alex theater  los angeles. the awards are handed out by the international animated film society. finding nemo won nine annies last year.',\n",
       " 'quiksilver moves for rossignol shares of skis rossignol  the world s largest ski-maker  have jumped as much as 15% on speculation that it will be bought by us surfwear firm quiksilver.  the owners of rossignol  the boix-vives family  are said to be considering an offer from quiksilver. analysts believe other sporting goods companies may now take a closer look at rossignol  prompting an auction and pushing the sale price higher. nike and k2 have previously been mentioned as possible suitors.  rossignol shares touched 17.70 euros  before falling back to trade 7.8% higher at 16.60 euros. european sporting goods companies have seen foreign revenues squeezed by a slump in the value of the us dollar  making a takeover more attractive  analysts said. companies such as quiksilver would be able to cut costs by selling rossignol skis through their shops  they added. the boix-vives family is thought to have spent the past couple of years sounding out possible suitors for rossignol  which also makes golf equipment  snowboards and sports clothing.',\n",
       " 'ea to take on film and tv giants video game giant electronic arts (ea) says it wants to become the biggest entertainment firm in the world.  the us firm says it wants to compete with companies such as disney and will only achieve this by making games appeal to mainstream audiences. ea publishes blockbuster titles such as fifa and john madden  as well as video game versions of movies such as harry potter and the james bond films. its revenues were $3bn (£1.65bn) in 2004  which ea hoped to double by 2009. ea is the biggest games publisher in the world and in 2004 had 27 titles which sold in excess of one million copies each. nine of the 20 biggest-selling games in the uk last year were published by ea.  gerhard florin  ea s managing director for european publishing  said:  doubling our industry in five years is not rocket science.  he said it would take many years before ea could challenge disney - which in 2004 reported revenues of $30bn (£16bn) - but it remained a goal for the company.  we will be able to bring more people into gaming because games will be more emotional.  mr florin predicted that the next round of games console would give developers enough power to create real emotion.   it s the subtleties  the eyes  the mouth - 5 000 polygons doesn t really sell the emotion.   with ps3 and xbox 2  we can go on the main character with 30 000 to 50 000 polygons   he said.  with that increased firepower  the finding nemo video game looks just like the movie  but it will be interactive.  mr florin said that more than 50% of all ea s games were sold to adults and played by adults  but the perception remained that the video game industry was for children.  our goal is to bring games to the masses which bring out emotions.  ea said the video game industry was now bigger than the music industry.  nobody queues for music anymore.    you can t ignore an industry when people queue to buy a game at midnight because they are so desperate to play it   he said  referring to demand for titles for such as grand theft auto: san andreas and halo 2.  jan bolz  ea s vice president of sales and marketing in europe  said the firm was working to give video games a more central role in popular culture. he said the company was in advanced stages of discussions over a reality tv show in which viewers could control the actions of the characters as in its popular game the sims.  one idea could be that you re controlling a family  telling them when to go to the kitchen and when to go to the bedroom  and with this mechanism you have gamers all over the world  playing the show    said mr bolz.  he also said ea was planning an international awards show  similar to the oscars and the grammys  which would combine video games  music and movies. mr bolz said video games firm had to work more closely with celebrities.  people will want to play video games if their heroes like robbie williams or christina aguilera are in them.  mr florin said the challenge was to keep people playing in their 30s  40s and 50s.  there s an indication that a 30 year old comes home from work and still wants to play games.  if that s true  that s a big challenge for tv broadcasters - because watching tv is the biggest pastime at present.',\n",
       " 'sir paul rocks super bowl crowds sir paul mccartney wowed fans with a live mini-concert at american football s super bowl - and avoided any janet jackson-style controversies.  the 62-year-old sang hey jude and other beatles songs in a 12-minute set at half-time during the game in florida. last year  jackson exposed a breast during a dance routine  causing outrage among millions of tv viewers and landing the cbs tv network a fine. sir paul  however  did nothing more racy than remove his jacket as he sang. organisers were widely considered to be playing it safe this year by booking 62-year-old sir paul for his second super bowl show.  three years ago  he was invited to perform at the first super bowl after the september 11 attacks and performed his specially-written song freedom. this time  he started off the show  at the alltel stadium in jacksonville  florida  with the beatles numbers drive my car and get back. he then performed a mellow version of live and let die  the james bond theme he recorded with the band wings. finally  he closed the show with a rousing version of hey jude. the former beatle resisted any temptation to refer to janet jackson s headline-grabbing performance last year  instead keeping banter between songs to a minimum in order to squeeze as much music as he could into his slot. the singer removed his black jacket halfway through the show - but any fans hoping for a second  nipple-gate  were to be disappointed as he kept his red sweatshirt on underneath.  earlier  the black eyed peas and alicia keys had provided the night s other high-profile entertainment by performing in a pre-game show. black eyed peas singer fergie was dressed in a tight orange top and purple hotpants  but nothing in her performance was likely to upset tv watchdogs. after the controversy last year - which saw cbs fined a record $550 000 (£292 000) by federal regulators - super bowl organisers had turned to producer don mischer to oversee this year s half-time show. his previous production credits included olympic opening and closing ceremonies. the super bowl is watched by an audience of 144.4 million in the us  with many of the people watching are said to tune in specifically to see the entertainment put on around the event. michael jackson  aerosmith  diana ross  gloria estefan and phil collins are among the stars who have previously graced the super bowl stage.',\n",
       " 'm&s cuts prices by average of 24% marks & spencer has cut prices in london and the regions by an average of 24%  according to research from a city investment bank.  dresdner kleinwort wasserstein said:  in spite of the snow in the uk  it still feels very early to be cutting prices of spring merchandise.  stuart rose  head of m&s  said last year its prices were too high.  we are bringing in ranges at new price points to compete against mid-market retailers like next   said m&s.  next is one of m&s s biggest competitors and the move may force it to lower prices. drkw said the cuts are either to clear stock or could indicate a longer term  step change in pricing in certain areas  at m&s.  either way  this cannot be good news for m&s  margin   it added.  we have brought in quite a lot of new clothing at new price points as part of stuart rose s strategy of quality  style -and price   said the m&s spokesman. many analysts believe february is proving to be a difficult month for retailers and british retail consortium figures  due in a few weeks  are expected to reflect the tough trading environment. separately  investment bank goldman sachs produced reseach showing that a basket of 35 m&s goods is now 11% above the high-street average  compared with 43% higher last year.  it has been a strange week for m&s  which on tuesday received a statement from philip green  the billionaire bhs owner  confirming he was not rebidding for the company. this was followed the same day by mark paulsmeier  a south african financier  issuing a press release saying his paulsmeier group was interested in m&s. a sudden spike in m&s s share price followed. however  an m&s spokesman said on sunday it had no evidence that mr paulsmeier had lined up sufficient finance for a bid. he also said the takeover panel and the uk s financial watchdog the financial services authority had been in touch with m&s at the beginning of the week to find out what it knew about the paulsmeier developments.',\n",
       " 'double injury blow strikes wales wales centre sonny parker and number eight ryan jones will miss saturday s game with italy because of injury.  parker has not recovered from a trapped nerve in his neck that kept him out of the win over england  and tom shanklin is expected to continue at centre. jones damaged his collar bone after coming on as a replacement against england and joins flanker colin charvis (foot injury) on the sidelines. meanwhile  mike ruddock may make gavin henson his first-choice kicker in rome. the centre was wales  hero in the 11-9 six nations win over england  landing a huge late penalty from wide out to clinch the game. first-choice kicker stephen jones handed over responsibility because of henson s greater kicking range  but the fly-half had already missed a number of shots at goal.  our first aim was to get gavin settled into the team  but giving him the kicks is something we ll talk about in selection this week   wales coach mike ruddock told bbc sport wales. henson himself says he is relishing all the media hype that has been heaped on him since last saturday s game.  i thrive on it and think it makes me perform better   he said.  i m glad it s a short week before the italy game. there was so much build-up before england  but we fly out to rome on thursday and we ll be back playing again.',\n",
       " 'steady job growth continues in us the us created fewer jobs than expected in december  but analysts said that the dip in hiring was not enough to derail the world s biggest economy.  according to labor department figures  157 000 new jobs were added last month. that took 2004 s total to 2.2 million  the best showing in five years. job creation was one of last year s main concerns for the us economy. while worries still remain  the conditions are set for steady growth in 2005  analysts said. the unemployment rate stayed at 5.4% in december  and about 200 000 jobs will need to be created each month if that figure is to drop.   it was a respectable report   said michael moran  analyst at daiwa securities.   payroll growth in december was a little lighter than the consensus forecast  but we had upward revisions to the prior two months and an increase in manufacturing employment.   manufacturing is a cyclical area of the economy and if it s showing job growth  it s a good indication that the economy is on a solid growth track.  that means that the federal reserve is likely to continue its policy of raising interest rates. the fed lifted borrowing costs five times last year to 2.25%  citing evidence the us economic recovery was becoming more robust.  job creation was one of last year s main concerns for the us economy  and proved to be a main topic of debate in the us presidential election. while demand for workers is far from booming  the conditions are set for steady growth.  overall  compared to the previous year it looks great  it just keeps going stronger and stronger and i expect that to be the case  in 2005  said kurt karl  economist at swiss re in new york. meanwhile  economists cautioned against reading too much into data from the federal reserve showing an unexpected $8.7bn drop in consumer debt in november. a fall in consumer spending  which makes up about two-thirds of all us economic activity  could help limit the extent of any future interest rate rises. but economists said there could be a number of reasons for a fall in the borrowing  which include credit cards and personal loans  while noting that such figures can vary on a month-to-month basis.',\n",
       " 'new foot and mouth action urged a senior tory mp has criticised agriculture department defra s  lackadaisical  approach to planning for a future foot and mouth outbreak.  public accounts committee chairman edward leigh was giving his reaction to a report by a government watchdog on lessons to be learnt from the crisis. the national audit office said defra had improved its capacity to deal with future livestock disease outbreaks. but mr leigh said the department was  dragging its heels .  that comment referred to the setting up of a scheme to share any future compensation costs with industry. he also said defra had been  dreadfully slow  in paying some of its bills dating from the foot and mouth crisis.  the outbreak  which began in 2001  led to the slaughter of 6.5 million animals  devastated many farms and rural businesses  and is estimated to have cost the uk up to £8bn.  four years after the outbreak  defra is yet to begin its planned review of some of its contractors  costs  and £40m of invoices remain unpaid   mr leigh said. mr leigh also pointed out that the introduction of an it system to help control future outbreaks had been delayed. in november it emerged european commission compensation amounted to just over a third of the money the uk government had hoped to get as reimbursement for the billions lost through the foot and mouth crisis.  ministers had hoped to get £900m from the european union vet fund to help with animal slaughter and other costs but in the end was granted £349m. that was because the uk had valued the culled animals at between  two and three times  the commission s assessment of their likely market value. national audit office chief sir john bourn said a new compensation scheme was now being looked at. on the issue of the unpaid invoices  sir john said defra had paid 97% of the £1.3bn submitted by contractors since 2001   but has not agreed a final settlement with 57 contractors pending the results of its investigations .  mr leigh said being  better prepared  would also help avoid the need for  mass funeral pyres which provided an unsettling images of the 2001 outbreak . a defra spokesman said:  we welcome the report. it acknowledges the progress the department has made since 2001 - particularly on contingency planning and our improved capacity and preparedness for combating another major disease outbreak.  however  the department is aware that there are some areas requiring further work and we are working to resolve them as soon as is practicable.',\n",
       " 'barbarians 19-47 new zealand new zealand proved too strong for an australian-dominated barbarians to round off their unbeaten northern hemisphere tour with an easy win.  rico gear ran in two of the all blacks  seven tries in what was a predominantly second-string line-up. the baa-baas did threaten  scoring tries through albert van den bergh  xavier rush and andrea lo cicero  but never looked like winning. all black aaron mauger was in good form with the boot  adding 10 points. the all blacks featured only two of the side which started last weekend s emphatic test victory over france in paris  while the baa-baas had nine wallabies in their starting line-up. and new zealand coach graham henry said:  it was a quality performance against a very experienced side and a number of young guys came through very well.  they learnt from the older players and this was a way of thanking the guys who had been mentoring them on the tour.  but the running rugby the crowd had been hoping for rarely materialised. marty holah got the all blacks onslaught under way with his fifth-minute try before rush hit back moments later. but new zealand went ahead once more as gear made use of the space vacated by a temporarily injured chris latham to slide in. ma a nonu then found his way through the barbarians defence to give his side a 19-7 half-time lead. the hosts failed to ignite in the second half and  the moment gear scored his second just after the interval  there was only ever going to be one winner. lo cicero  the sole european for the barbarians  bundled over for a try to briefly curtail the deficit. but the match was blighted by controversy moments later when justin marshall  was felled with a high tackle by jimmy cowan. referee andy turner waved play on and casey laulala coasted in for his side s fifth try. jermoe keino and piri weepu both added tries to the all blacks  tally before the final whistle  while van den bergh gained some consolation for the baa-baas. after the match  barbarians coach bob dwyer warned that south african flanker schalk burger needed a proper off-season break to maintain his standards. burger  21  was recently crowned player of the year by both his peers and the international rugby board  but has struggled for form in recent weeks.  it s his first year at that level and he was phenomenal up until the end of the southern hemisphere season.  i don t think he s played anywhere near that level on tour   he said.',\n",
       " 'uk firms  embracing e-commerce  uk firms are embracing internet trading opportunities as never before  e-commerce minister mike o brien says.  a government-commissioned study ranked the uk third in its world index of use of information and communication technology (ict). the report suggests 69% of uk firms are now using broadband and that 30% of micro businesses are trading online. mr o brien said uk businesses were sprinting forward in ict use  but that there were more challenges ahead. the report  carried out independently by consultants booz allen hamilton and hi europe  placed the uk third behind sweden and ireland for business use of ict.  it showed british business brought greater maturity to their ict use  by using broadband in increased numbers  bringing ict into their business plans and using new technologies such as voice activated programmes and desktop video conferences. mr o brien said:  the increase in the proportion of business connected by broadband shows that uk companies are embracing the opportunities that ict can bring.  it is particularly encouraging to see that small businesses are beginning to narrow the digital divide that appeared to have opened up in recent years.  the government would play its part in  cultivating an environment where information and communication technologies can flourish   mr o brien said. the  clear message  the report sends is that effective use of ict can bring real improvements in business performance for all business.   however  we are not at the finishing line yet and many challenges remain if the uk is to reach its aim of becoming a world-leading e-economy   he added. the international benchmarking study was based on 8 000 telephone interviews with businesses  of which more than 2 700 were uk businesses. it is the eighth in a series of examining the adoption and deployment of ict in the world s most industrialised nations.',\n",
       " 'eminem secret gig venue revealed rapper eminem is to play an intimate gig in london on saturday  following a show on the river thames on friday.  the us star will play just two songs at a night showcasing his label shady records at the islington academy. eminem performed on hms belfast on friday  which is docked on the river thames  where he filmed two songs for bbc one s top of the pops. he arrived in the uk on friday following his appearance at the mtv europe music awards in rome. other rap acts who may appear at the islington gig include stat quo  proof  dj green lantern  swift and obie trice.  eminem s latest album soared to the top of the us chart after just three days on sale in record shops. encore is now a chart-topper on both sides of the atlantic following its debut at number one in the uk. the fourth album from the rap star was on sale for two days before it outsold all of its rivals. the album was released early in an effort to combat both physical and online piracy.  eminem s album includes the track mosh  which is a tirade against us president bush and the presence of us troops in iraq. the rapper was criticised earlier this year after a performance on bbc one s top of the pops in april led 12 viewers to complain he was  lewd  and  offensive . the complaints about the star grabbing his crotch were upheld by the bbc.  the performer had been asked to tone his act down after rehearsal but ignored this request during the live broadcast   a bbc statement read.  although his gestures were part of the rap culture  they had gone beyond what is expected.',\n",
       " 'john peel replacement show begins the permanent replacement for late dj john peel s bbc radio 1 show goes on air on tuesday  with three hosts chosen to fill the legendary presenter s slot.  rock dj huw stephens will go on air in the 2300 slot every tuesday  with black music champion ras kwame on wednesdays and dance dj rob da bank on thursdays. rob da bank filled in after peel had a heart attack aged 65 in october. all three will play  diverse  unpredictable and non-commercial  songs under the banner of the onemusic show.  radio 1 said the station was not trying to replace peel  but would rise to the  challenge  of  keeping his legacy alive  with unpredictable music. the three djs were chosen for their  in-depth musical knowledge across a variety of musical genres   the station said.  rob da bank is one of the hosts of the blue room  an early morning weekend show which plays electronic and dance music. huw stephens has been one half of the thursday night show bethan and huw in wales  which explores new music  especially up-and-coming acts in wales. and ras kwame is host of 100% homegrown on radio 1 s digital station 1xtra  dedicated to showcasing the best hip-hop and garage. another change to the station line-up will see sara cox return after maternity leave. she will host the lunchtime show on saturdays from this week.  good luck to all three of them  not one dj could fill peels boots so it s probably a good idea to get them all contributing. this time next year i hope we are saying how well these djs have done  but i fear this time next year we will really realise how much john peel will be forever missed.  very good idea to continue the legacy without attempting to replace john peel. also  there will surely be a wider spectrum for international music as three top radio djs unite under the one world name. congratulations!  the whole glory of john peel was the fact he was not commited to one genre. he played what he liked across the range of music.... this is not going to be the same  and all they seem to be doing is what they already have. bring back steve lamacq.  the obvious heir to john peel is the marvellous  wonderful and talented claire kember from totallyradio.com. this lady is young and fresh and is one of the most knowledgeable and likeable people in british broadcasting today. everyone who listens to her show understands and compares her to the ledgendary john peel. bbc radio should seek out the real talent from internet radio stations  people who are making a real impact on the world of music and the world in general.',\n",
       " 'cactus diet deal for phytopharm a slimming aid made from a southern african cactus is set to be developed by uk firm phytopharm and unilever.  anglo-dutch food giant unilever will help the pharmaceutical firm develop the snacks containing hoodia extract. phytopharm shares jumped 10.7% on the news  with analysts saying sales of $600m (£309m) a year were possible. the plant  licensed to phytopharm in 1997  has been used for thousands of years by the sans bushmen of the kalahari desert to stave off hunger. studies have reportedly shown the plant curbs appetite instead of reducing calorific intake like many existing products.  phytopharm will receive an initial fee of £6.5m from unilever - out of a potential total of £21m - as well as future royalties on product sales. under the deal  production of the hoodia cactus at phytopharm s nursery in south africa will also rise from eight million plants to potentially hundreds of millions  said phytopharm chief executive richard dixey. the firm had initially hoped to market a slimming drug from hoodia with pfizer. but the research collaboration came to an end in 2003. analysts said unilever could launch the new products in 2007.  this deal goes a long way to restoring the market faith in phytopharm s pipeline after the pfizer exit   said analyst erling refsum at nomura.']"
      ]
     },
     "execution_count": 4,
     "metadata": {},
     "output_type": "execute_result"
    }
   ],
   "source": [
    "sentences"
   ]
  },
  {
   "cell_type": "markdown",
   "metadata": {},
   "source": [
    "Initializing tokenizer & model with the hugging face pretrained 'sentence-transformers' and 'bert-base-nli-mean-tokens' respectively"
   ]
  },
  {
   "cell_type": "code",
   "execution_count": 5,
   "metadata": {},
   "outputs": [],
   "source": [
    "tokenizer = AutoTokenizer.from_pretrained(model_name)\n",
    "model = AutoModel.from_pretrained(model_name)"
   ]
  },
  {
   "cell_type": "markdown",
   "metadata": {},
   "source": [
    "Tokenizing all the sentences"
   ]
  },
  {
   "cell_type": "code",
   "execution_count": 6,
   "metadata": {},
   "outputs": [],
   "source": [
    "tokens = {'input_ids': [], 'attention_mask': []}"
   ]
  },
  {
   "cell_type": "markdown",
   "metadata": {},
   "source": [
    "Iterating tokenizer for all the input sentence"
   ]
  },
  {
   "cell_type": "code",
   "execution_count": 7,
   "metadata": {},
   "outputs": [],
   "source": [
    "for sentence in sentences:\n",
    "    new_tokens = tokenizer.encode_plus(sentence, max_length=128,\n",
    "                                       truncation=True, padding='max_length', return_tensors='pt')\n",
    "    tokens['input_ids'].append(new_tokens['input_ids'][0])\n",
    "    tokens['attention_mask'].append(new_tokens['attention_mask'][0])"
   ]
  },
  {
   "cell_type": "markdown",
   "metadata": {},
   "source": [
    "Stacking the tokens so that it will be converted to single pytorch tensor "
   ]
  },
  {
   "cell_type": "code",
   "execution_count": 8,
   "metadata": {},
   "outputs": [],
   "source": [
    "tokens['input_ids'] = torch.stack(tokens['input_ids'])\n",
    "tokens['attention_mask'] = torch.stack(tokens['attention_mask'])"
   ]
  },
  {
   "cell_type": "code",
   "execution_count": 9,
   "metadata": {},
   "outputs": [
    {
     "data": {
      "text/plain": [
       "torch.Size([400, 128])"
      ]
     },
     "execution_count": 9,
     "metadata": {},
     "output_type": "execute_result"
    }
   ],
   "source": [
    "tokens['input_ids'].shape"
   ]
  },
  {
   "cell_type": "markdown",
   "metadata": {},
   "source": [
    "Passing the tokens to the model"
   ]
  },
  {
   "cell_type": "code",
   "execution_count": 10,
   "metadata": {},
   "outputs": [],
   "source": [
    "outputs = model(**tokens)"
   ]
  },
  {
   "cell_type": "code",
   "execution_count": 11,
   "metadata": {},
   "outputs": [
    {
     "data": {
      "text/plain": [
       "BaseModelOutputWithPoolingAndCrossAttentions(last_hidden_state=tensor([[[-0.3117,  0.3173, -0.7577,  ...,  0.1216,  1.4572,  0.1638],\n",
       "         [ 0.3270,  0.3581, -0.1369,  ..., -0.1159,  1.1774, -0.0059],\n",
       "         [-0.0047,  0.5353, -0.5966,  ...,  0.0892,  0.9726, -0.2937],\n",
       "         ...,\n",
       "         [-0.5084, -0.1953, -0.6451,  ...,  0.1628,  1.3361,  0.0447],\n",
       "         [-0.8518, -0.1075, -0.2885,  ...,  0.0305,  0.9707,  0.0444],\n",
       "         [-0.2298,  0.4919, -0.4359,  ..., -0.0204,  1.4100,  0.0787]],\n",
       "\n",
       "        [[-0.8053,  0.4447, -0.0258,  ..., -0.1588,  0.6907, -0.4419],\n",
       "         [-0.1226,  0.4971, -0.1549,  ..., -0.2928,  0.5732, -0.7079],\n",
       "         [-0.6810,  0.7066,  0.1803,  ..., -0.3262,  0.5653, -0.6268],\n",
       "         ...,\n",
       "         [-0.1318,  0.1959,  0.1768,  ..., -0.1902,  0.3838, -0.0228],\n",
       "         [ 0.0735,  0.4843,  0.1758,  ..., -0.1621,  0.3166, -0.3355],\n",
       "         [-0.4902,  0.8651,  0.4686,  ..., -0.2613,  0.4778, -0.5513]],\n",
       "\n",
       "        [[-0.4956,  0.3217, -0.4395,  ..., -0.2438, -0.0113,  0.0280],\n",
       "         [ 0.3129,  0.4886, -0.0462,  ..., -0.2183, -0.2603, -1.0747],\n",
       "         [ 0.1608,  0.4541, -0.3698,  ...,  0.1130, -0.1958, -0.5612],\n",
       "         ...,\n",
       "         [ 0.2072,  0.3448, -0.0752,  ..., -0.4243, -0.7608, -0.5235],\n",
       "         [ 0.1198,  0.3760, -0.0061,  ..., -0.2749, -0.9987, -0.2288],\n",
       "         [-0.2893,  0.2422,  0.0172,  ..., -0.3721, -0.1257, -0.0651]],\n",
       "\n",
       "        ...,\n",
       "\n",
       "        [[-0.3267, -0.3605,  1.1532,  ..., -0.2228, -0.4031,  0.1258],\n",
       "         [ 0.3353, -0.0860,  0.9823,  ...,  0.7334, -0.5998, -0.4465],\n",
       "         [ 0.1385, -0.1542,  0.7034,  ...,  0.3486, -0.5968, -0.0423],\n",
       "         ...,\n",
       "         [ 0.2362,  0.1608,  0.6360,  ...,  0.5191, -0.7118, -0.4106],\n",
       "         [ 0.2318, -0.0198,  0.5574,  ...,  0.4132, -0.5752, -0.3565],\n",
       "         [-0.0982, -0.0322,  1.3034,  ..., -0.2545, -0.5441, -0.2337]],\n",
       "\n",
       "        [[-0.5981,  0.2446,  0.9984,  ...,  0.8147,  0.6852,  0.2185],\n",
       "         [ 0.1830,  0.3819,  0.8308,  ...,  1.2335,  0.2722, -1.1756],\n",
       "         [-0.3328,  0.3400,  0.8301,  ...,  1.3030,  0.3818, -0.3369],\n",
       "         ...,\n",
       "         [-0.2889,  0.2614,  1.0537,  ...,  0.8976,  0.1165,  0.5917],\n",
       "         [ 0.1259,  0.2330,  1.5733,  ...,  1.4064, -0.4296,  0.0263],\n",
       "         [-0.5125,  0.3648,  1.4614,  ...,  0.9033,  0.6080, -0.0754]],\n",
       "\n",
       "        [[-0.9095,  0.5737, -0.6229,  ..., -0.0186,  0.6128, -0.0677],\n",
       "         [ 0.3039,  0.7347, -0.7283,  ...,  0.1136,  0.0040, -0.3860],\n",
       "         [ 0.2190,  0.7205, -0.6687,  ...,  0.1675,  0.1341, -0.2055],\n",
       "         ...,\n",
       "         [-0.3469,  0.3304, -0.2456,  ...,  0.1654,  0.3949, -0.1772],\n",
       "         [-0.1684,  0.7980, -0.5148,  ..., -0.0692,  0.1198, -0.2928],\n",
       "         [-0.6863,  1.1130, -0.3146,  ..., -0.2256,  0.4012, -0.1879]]],\n",
       "       grad_fn=<NativeLayerNormBackward0>), pooler_output=tensor([[-0.7241, -0.5688, -0.4755,  ...,  0.0728, -0.2440,  0.7302],\n",
       "        [ 0.0750, -0.3142, -0.3800,  ..., -0.1351,  0.2920, -0.0753],\n",
       "        [-0.4777, -0.5196, -0.1757,  ...,  0.2716, -0.2131,  0.1750],\n",
       "        ...,\n",
       "        [ 0.0799, -0.2590, -0.2882,  ...,  0.2693,  0.1376, -0.2823],\n",
       "        [-0.0945, -0.4899, -0.4059,  ..., -0.1200, -0.0411, -0.2529],\n",
       "        [-0.4008, -0.4948, -0.2320,  ..., -0.5305, -0.0548,  0.4825]],\n",
       "       grad_fn=<TanhBackward0>), hidden_states=None, past_key_values=None, attentions=None, cross_attentions=None)"
      ]
     },
     "execution_count": 11,
     "metadata": {},
     "output_type": "execute_result"
    }
   ],
   "source": [
    "outputs"
   ]
  },
  {
   "cell_type": "code",
   "execution_count": 12,
   "metadata": {},
   "outputs": [
    {
     "data": {
      "text/plain": [
       "odict_keys(['last_hidden_state', 'pooler_output'])"
      ]
     },
     "execution_count": 12,
     "metadata": {},
     "output_type": "execute_result"
    }
   ],
   "source": [
    "outputs.keys()"
   ]
  },
  {
   "cell_type": "markdown",
   "metadata": {},
   "source": [
    "Assigning embeddings last_hidden_state tensors so that after performing mean pooling operating convert it into the sentence vector"
   ]
  },
  {
   "cell_type": "code",
   "execution_count": 11,
   "metadata": {},
   "outputs": [
    {
     "data": {
      "text/plain": [
       "torch.Size([400, 128, 768])"
      ]
     },
     "execution_count": 11,
     "metadata": {},
     "output_type": "execute_result"
    }
   ],
   "source": [
    "embeddings = outputs.last_hidden_state\n",
    "embeddings.shape"
   ]
  },
  {
   "cell_type": "markdown",
   "metadata": {},
   "source": [
    "Multiplying the attention_mask (i.e., 0 for no word in a cell and 1 for a word in a cell) to each embeddings which will help in removing the unnecessary embeddings"
   ]
  },
  {
   "cell_type": "code",
   "execution_count": 12,
   "metadata": {},
   "outputs": [
    {
     "data": {
      "text/plain": [
       "torch.Size([400, 128])"
      ]
     },
     "execution_count": 12,
     "metadata": {},
     "output_type": "execute_result"
    }
   ],
   "source": [
    "attention = tokens['attention_mask']\n",
    "attention.shape"
   ]
  },
  {
   "cell_type": "markdown",
   "metadata": {},
   "source": [
    "Changing the dimension of attention to match with embeddings"
   ]
  },
  {
   "cell_type": "code",
   "execution_count": 13,
   "metadata": {},
   "outputs": [],
   "source": [
    "mask = attention.unsqueeze(-1).expand(embeddings.shape).float()"
   ]
  },
  {
   "cell_type": "code",
   "execution_count": 14,
   "metadata": {},
   "outputs": [],
   "source": [
    "mask_embeddings = embeddings * mask"
   ]
  },
  {
   "cell_type": "markdown",
   "metadata": {},
   "source": [
    "Converting mask_embeddings to a single value"
   ]
  },
  {
   "cell_type": "code",
   "execution_count": 15,
   "metadata": {},
   "outputs": [
    {
     "data": {
      "text/plain": [
       "torch.Size([400, 768])"
      ]
     },
     "execution_count": 15,
     "metadata": {},
     "output_type": "execute_result"
    }
   ],
   "source": [
    "summed = torch.sum(mask_embeddings, 1)\n",
    "summed.shape"
   ]
  },
  {
   "cell_type": "markdown",
   "metadata": {},
   "source": [
    "Taking the counts of mask"
   ]
  },
  {
   "cell_type": "code",
   "execution_count": 16,
   "metadata": {},
   "outputs": [
    {
     "data": {
      "text/plain": [
       "torch.Size([400, 768])"
      ]
     },
     "execution_count": 16,
     "metadata": {},
     "output_type": "execute_result"
    }
   ],
   "source": [
    "counts = torch.clamp(mask.sum(1), min=1e-9)\n",
    "counts.shape"
   ]
  },
  {
   "cell_type": "markdown",
   "metadata": {},
   "source": [
    "Getting the mean pooling of the masked embeddings"
   ]
  },
  {
   "cell_type": "code",
   "execution_count": 17,
   "metadata": {},
   "outputs": [
    {
     "data": {
      "text/plain": [
       "torch.Size([400, 768])"
      ]
     },
     "execution_count": 17,
     "metadata": {},
     "output_type": "execute_result"
    }
   ],
   "source": [
    "mean_pooled = summed/counts\n",
    "mean_pooled.shape"
   ]
  },
  {
   "cell_type": "code",
   "execution_count": 18,
   "metadata": {},
   "outputs": [
    {
     "data": {
      "text/plain": [
       "tensor([[-0.2648,  0.2231, -0.4899,  ...,  0.0097,  1.2247,  0.0544],\n",
       "        [-0.4501,  0.5434,  0.0246,  ..., -0.2090,  0.4181, -0.4787],\n",
       "        [-0.2469,  0.1297, -0.1575,  ..., -0.1625, -0.3272, -0.3834],\n",
       "        ...,\n",
       "        [-0.2629,  0.8346, -0.0420,  ..., -0.3503, -0.6176, -0.2161],\n",
       "        [-0.7407,  0.6367, -0.7799,  ..., -0.0980,  0.6192,  0.1845],\n",
       "        [-0.6438,  0.8662, -0.2314,  ...,  0.2144,  0.1373,  0.3366]],\n",
       "       grad_fn=<DivBackward0>)"
      ]
     },
     "execution_count": 18,
     "metadata": {},
     "output_type": "execute_result"
    }
   ],
   "source": [
    "mean_pooled"
   ]
  },
  {
   "cell_type": "code",
   "execution_count": 19,
   "metadata": {},
   "outputs": [],
   "source": [
    "from sklearn.metrics.pairwise import cosine_similarity\n",
    "import numpy as np\n"
   ]
  },
  {
   "cell_type": "markdown",
   "metadata": {},
   "source": [
    "By Cosine similarity method, comparing which vector is most likely to match each other. Here I took Sentence1 comparision to sentence2"
   ]
  },
  {
   "cell_type": "code",
   "execution_count": 21,
   "metadata": {},
   "outputs": [
    {
     "name": "stdout",
     "output_type": "stream",
     "text": [
      "Cosine Similarity between text1 and text2 : 0.62\n",
      "Cosine Similarity between text1 and text2 : 0.65\n",
      "Cosine Similarity between text1 and text2 : 0.57\n",
      "Cosine Similarity between text1 and text2 : 0.55\n",
      "Cosine Similarity between text1 and text2 : 0.65\n",
      "Cosine Similarity between text1 and text2 : 0.53\n",
      "Cosine Similarity between text1 and text2 : 0.62\n",
      "Cosine Similarity between text1 and text2 : 0.72\n",
      "Cosine Similarity between text1 and text2 : 0.64\n",
      "Cosine Similarity between text1 and text2 : 0.61\n",
      "Cosine Similarity between text1 and text2 : 0.63\n",
      "Cosine Similarity between text1 and text2 : 0.64\n",
      "Cosine Similarity between text1 and text2 : 0.63\n",
      "Cosine Similarity between text1 and text2 : 0.76\n",
      "Cosine Similarity between text1 and text2 : 0.57\n",
      "Cosine Similarity between text1 and text2 : 0.63\n",
      "Cosine Similarity between text1 and text2 : 0.75\n",
      "Cosine Similarity between text1 and text2 : 0.65\n",
      "Cosine Similarity between text1 and text2 : 0.45\n",
      "Cosine Similarity between text1 and text2 : 0.69\n",
      "Cosine Similarity between text1 and text2 : 0.68\n",
      "Cosine Similarity between text1 and text2 : 0.69\n",
      "Cosine Similarity between text1 and text2 : 0.62\n",
      "Cosine Similarity between text1 and text2 : 0.63\n",
      "Cosine Similarity between text1 and text2 : 0.73\n",
      "Cosine Similarity between text1 and text2 : 0.62\n",
      "Cosine Similarity between text1 and text2 : 0.66\n",
      "Cosine Similarity between text1 and text2 : 0.56\n",
      "Cosine Similarity between text1 and text2 : 0.50\n",
      "Cosine Similarity between text1 and text2 : 0.64\n",
      "Cosine Similarity between text1 and text2 : 0.57\n",
      "Cosine Similarity between text1 and text2 : 0.65\n",
      "Cosine Similarity between text1 and text2 : 0.67\n",
      "Cosine Similarity between text1 and text2 : 0.59\n",
      "Cosine Similarity between text1 and text2 : 0.57\n",
      "Cosine Similarity between text1 and text2 : 0.64\n",
      "Cosine Similarity between text1 and text2 : 0.78\n",
      "Cosine Similarity between text1 and text2 : 0.72\n",
      "Cosine Similarity between text1 and text2 : 0.74\n",
      "Cosine Similarity between text1 and text2 : 0.62\n",
      "Cosine Similarity between text1 and text2 : 0.72\n",
      "Cosine Similarity between text1 and text2 : 0.58\n",
      "Cosine Similarity between text1 and text2 : 0.58\n",
      "Cosine Similarity between text1 and text2 : 0.57\n",
      "Cosine Similarity between text1 and text2 : 0.63\n",
      "Cosine Similarity between text1 and text2 : 0.65\n",
      "Cosine Similarity between text1 and text2 : 0.81\n",
      "Cosine Similarity between text1 and text2 : 0.57\n",
      "Cosine Similarity between text1 and text2 : 0.69\n",
      "Cosine Similarity between text1 and text2 : 0.66\n",
      "Cosine Similarity between text1 and text2 : 0.50\n",
      "Cosine Similarity between text1 and text2 : 0.68\n",
      "Cosine Similarity between text1 and text2 : 0.62\n",
      "Cosine Similarity between text1 and text2 : 0.79\n",
      "Cosine Similarity between text1 and text2 : 0.56\n",
      "Cosine Similarity between text1 and text2 : 0.90\n",
      "Cosine Similarity between text1 and text2 : 0.70\n",
      "Cosine Similarity between text1 and text2 : 0.57\n",
      "Cosine Similarity between text1 and text2 : 0.68\n",
      "Cosine Similarity between text1 and text2 : 0.66\n",
      "Cosine Similarity between text1 and text2 : 0.62\n",
      "Cosine Similarity between text1 and text2 : 0.54\n",
      "Cosine Similarity between text1 and text2 : 0.56\n",
      "Cosine Similarity between text1 and text2 : 0.64\n",
      "Cosine Similarity between text1 and text2 : 0.70\n",
      "Cosine Similarity between text1 and text2 : 0.53\n",
      "Cosine Similarity between text1 and text2 : 0.66\n",
      "Cosine Similarity between text1 and text2 : 0.58\n",
      "Cosine Similarity between text1 and text2 : 0.57\n",
      "Cosine Similarity between text1 and text2 : 0.51\n",
      "Cosine Similarity between text1 and text2 : 0.75\n",
      "Cosine Similarity between text1 and text2 : 0.58\n",
      "Cosine Similarity between text1 and text2 : 0.73\n",
      "Cosine Similarity between text1 and text2 : 0.79\n",
      "Cosine Similarity between text1 and text2 : 0.59\n",
      "Cosine Similarity between text1 and text2 : 0.72\n",
      "Cosine Similarity between text1 and text2 : 0.68\n",
      "Cosine Similarity between text1 and text2 : 0.62\n",
      "Cosine Similarity between text1 and text2 : 0.55\n",
      "Cosine Similarity between text1 and text2 : 0.64\n",
      "Cosine Similarity between text1 and text2 : 0.75\n",
      "Cosine Similarity between text1 and text2 : 0.56\n",
      "Cosine Similarity between text1 and text2 : 0.60\n",
      "Cosine Similarity between text1 and text2 : 0.84\n",
      "Cosine Similarity between text1 and text2 : 0.79\n",
      "Cosine Similarity between text1 and text2 : 0.58\n",
      "Cosine Similarity between text1 and text2 : 0.57\n",
      "Cosine Similarity between text1 and text2 : 0.63\n",
      "Cosine Similarity between text1 and text2 : 0.64\n",
      "Cosine Similarity between text1 and text2 : 0.68\n",
      "Cosine Similarity between text1 and text2 : 0.70\n",
      "Cosine Similarity between text1 and text2 : 0.58\n",
      "Cosine Similarity between text1 and text2 : 0.59\n",
      "Cosine Similarity between text1 and text2 : 0.65\n",
      "Cosine Similarity between text1 and text2 : 0.53\n",
      "Cosine Similarity between text1 and text2 : 0.63\n",
      "Cosine Similarity between text1 and text2 : 0.58\n",
      "Cosine Similarity between text1 and text2 : 0.56\n",
      "Cosine Similarity between text1 and text2 : 0.64\n",
      "Cosine Similarity between text1 and text2 : 0.70\n",
      "Cosine Similarity between text1 and text2 : 0.64\n",
      "Cosine Similarity between text1 and text2 : 0.42\n",
      "Cosine Similarity between text1 and text2 : 0.69\n",
      "Cosine Similarity between text1 and text2 : 0.61\n",
      "Cosine Similarity between text1 and text2 : 0.66\n",
      "Cosine Similarity between text1 and text2 : 0.54\n",
      "Cosine Similarity between text1 and text2 : 0.62\n",
      "Cosine Similarity between text1 and text2 : 0.64\n",
      "Cosine Similarity between text1 and text2 : 0.51\n",
      "Cosine Similarity between text1 and text2 : 0.65\n",
      "Cosine Similarity between text1 and text2 : 0.66\n",
      "Cosine Similarity between text1 and text2 : 0.58\n",
      "Cosine Similarity between text1 and text2 : 0.65\n",
      "Cosine Similarity between text1 and text2 : 0.61\n",
      "Cosine Similarity between text1 and text2 : 0.84\n",
      "Cosine Similarity between text1 and text2 : 0.63\n",
      "Cosine Similarity between text1 and text2 : 0.62\n",
      "Cosine Similarity between text1 and text2 : 0.68\n",
      "Cosine Similarity between text1 and text2 : 0.49\n",
      "Cosine Similarity between text1 and text2 : 0.68\n",
      "Cosine Similarity between text1 and text2 : 0.58\n",
      "Cosine Similarity between text1 and text2 : 0.72\n",
      "Cosine Similarity between text1 and text2 : 0.64\n",
      "Cosine Similarity between text1 and text2 : 0.63\n",
      "Cosine Similarity between text1 and text2 : 0.87\n",
      "Cosine Similarity between text1 and text2 : 0.76\n",
      "Cosine Similarity between text1 and text2 : 0.82\n",
      "Cosine Similarity between text1 and text2 : 0.54\n",
      "Cosine Similarity between text1 and text2 : 0.50\n",
      "Cosine Similarity between text1 and text2 : 0.63\n",
      "Cosine Similarity between text1 and text2 : 0.60\n",
      "Cosine Similarity between text1 and text2 : 0.52\n",
      "Cosine Similarity between text1 and text2 : 0.63\n",
      "Cosine Similarity between text1 and text2 : 0.62\n",
      "Cosine Similarity between text1 and text2 : 0.61\n",
      "Cosine Similarity between text1 and text2 : 0.70\n",
      "Cosine Similarity between text1 and text2 : 0.60\n",
      "Cosine Similarity between text1 and text2 : 0.53\n",
      "Cosine Similarity between text1 and text2 : 0.74\n",
      "Cosine Similarity between text1 and text2 : 0.80\n",
      "Cosine Similarity between text1 and text2 : 0.64\n",
      "Cosine Similarity between text1 and text2 : 0.56\n",
      "Cosine Similarity between text1 and text2 : 0.62\n",
      "Cosine Similarity between text1 and text2 : 0.66\n",
      "Cosine Similarity between text1 and text2 : 0.63\n",
      "Cosine Similarity between text1 and text2 : 0.60\n",
      "Cosine Similarity between text1 and text2 : 0.73\n",
      "Cosine Similarity between text1 and text2 : 0.77\n",
      "Cosine Similarity between text1 and text2 : 0.74\n",
      "Cosine Similarity between text1 and text2 : 0.63\n",
      "Cosine Similarity between text1 and text2 : 0.78\n",
      "Cosine Similarity between text1 and text2 : 0.69\n",
      "Cosine Similarity between text1 and text2 : 0.83\n",
      "Cosine Similarity between text1 and text2 : 0.66\n",
      "Cosine Similarity between text1 and text2 : 0.65\n",
      "Cosine Similarity between text1 and text2 : 0.60\n",
      "Cosine Similarity between text1 and text2 : 0.51\n",
      "Cosine Similarity between text1 and text2 : 0.57\n",
      "Cosine Similarity between text1 and text2 : 0.66\n",
      "Cosine Similarity between text1 and text2 : 0.72\n",
      "Cosine Similarity between text1 and text2 : 0.71\n",
      "Cosine Similarity between text1 and text2 : 0.55\n",
      "Cosine Similarity between text1 and text2 : 0.65\n",
      "Cosine Similarity between text1 and text2 : 0.46\n",
      "Cosine Similarity between text1 and text2 : 0.60\n",
      "Cosine Similarity between text1 and text2 : 0.54\n",
      "Cosine Similarity between text1 and text2 : 0.71\n",
      "Cosine Similarity between text1 and text2 : 0.78\n",
      "Cosine Similarity between text1 and text2 : 0.81\n",
      "Cosine Similarity between text1 and text2 : 0.60\n",
      "Cosine Similarity between text1 and text2 : 0.61\n",
      "Cosine Similarity between text1 and text2 : 0.63\n",
      "Cosine Similarity between text1 and text2 : 0.59\n",
      "Cosine Similarity between text1 and text2 : 0.54\n",
      "Cosine Similarity between text1 and text2 : 0.52\n",
      "Cosine Similarity between text1 and text2 : 0.59\n",
      "Cosine Similarity between text1 and text2 : 0.71\n",
      "Cosine Similarity between text1 and text2 : 0.66\n",
      "Cosine Similarity between text1 and text2 : 0.79\n",
      "Cosine Similarity between text1 and text2 : 0.78\n",
      "Cosine Similarity between text1 and text2 : 0.75\n",
      "Cosine Similarity between text1 and text2 : 0.60\n",
      "Cosine Similarity between text1 and text2 : 0.61\n",
      "Cosine Similarity between text1 and text2 : 0.70\n",
      "Cosine Similarity between text1 and text2 : 0.61\n",
      "Cosine Similarity between text1 and text2 : 0.54\n",
      "Cosine Similarity between text1 and text2 : 0.55\n",
      "Cosine Similarity between text1 and text2 : 0.76\n",
      "Cosine Similarity between text1 and text2 : 0.53\n",
      "Cosine Similarity between text1 and text2 : 0.64\n",
      "Cosine Similarity between text1 and text2 : 0.68\n",
      "Cosine Similarity between text1 and text2 : 0.63\n",
      "Cosine Similarity between text1 and text2 : 0.57\n",
      "Cosine Similarity between text1 and text2 : 0.65\n",
      "Cosine Similarity between text1 and text2 : 0.49\n",
      "Cosine Similarity between text1 and text2 : 0.58\n",
      "Cosine Similarity between text1 and text2 : 0.62\n",
      "Cosine Similarity between text1 and text2 : 0.74\n",
      "Cosine Similarity between text1 and text2 : 0.62\n",
      "Cosine Similarity between text1 and text2 : 0.78\n"
     ]
    }
   ],
   "source": [
    "# for i in range(len(mean_pooled)-1):\n",
    "mean_pooled = mean_pooled.detach().numpy()\n",
    "\n",
    "# cosine_similarity(\n",
    "#     [mean_pooled[0]],\n",
    "#     [mean_pooled[1]]\n",
    "#  )\n",
    "similarity_score=[]\n",
    "for i in range(0, len(mean_pooled)-1, 2):\n",
    "    similarity = cosine_similarity([mean_pooled[i]], [mean_pooled[i+1]])[0, 0]\n",
    "    similarity = \"%.2f\" % similarity\n",
    "    similarity_score.append(similarity)\n",
    "    print(f\"Cosine Similarity between text1 and text2 : {similarity}\")\n",
    "    \n"
   ]
  },
  {
   "cell_type": "code",
   "execution_count": 48,
   "metadata": {},
   "outputs": [
    {
     "data": {
      "text/plain": [
       "['0.62',\n",
       " '0.65',\n",
       " '0.57',\n",
       " '0.55',\n",
       " '0.65',\n",
       " '0.53',\n",
       " '0.62',\n",
       " '0.72',\n",
       " '0.64',\n",
       " '0.61',\n",
       " '0.63',\n",
       " '0.64',\n",
       " '0.63',\n",
       " '0.76',\n",
       " '0.57',\n",
       " '0.63',\n",
       " '0.75',\n",
       " '0.65',\n",
       " '0.45',\n",
       " '0.69',\n",
       " '0.68',\n",
       " '0.69',\n",
       " '0.62',\n",
       " '0.63',\n",
       " '0.73',\n",
       " '0.62',\n",
       " '0.66',\n",
       " '0.56',\n",
       " '0.50',\n",
       " '0.64']"
      ]
     },
     "execution_count": 48,
     "metadata": {},
     "output_type": "execute_result"
    }
   ],
   "source": [
    "similarity_score\n",
    "\n"
   ]
  },
  {
   "cell_type": "code",
   "execution_count": 22,
   "metadata": {},
   "outputs": [],
   "source": [
    "existing_data = pd.read_csv('Precily_Text_Similarity_sample.csv')\n",
    "existing_data['Similarity Score'] = similarity_score\n",
    "existing_data.to_csv('Results.csv', index=False)\n"
   ]
  },
  {
   "cell_type": "code",
   "execution_count": 23,
   "metadata": {},
   "outputs": [],
   "source": [
    "import pickle\n",
    "pickle_out = open(\"Cosine_Similarity.pkl\",\"wb\")\n",
    "pickle.dump(similarity, pickle_out)\n",
    "pickle_out.close()"
   ]
  },
  {
   "cell_type": "code",
   "execution_count": null,
   "metadata": {},
   "outputs": [],
   "source": []
  }
 ],
 "metadata": {
  "kernelspec": {
   "display_name": "Python 3",
   "language": "python",
   "name": "python3"
  },
  "language_info": {
   "codemirror_mode": {
    "name": "ipython",
    "version": 3
   },
   "file_extension": ".py",
   "mimetype": "text/x-python",
   "name": "python",
   "nbconvert_exporter": "python",
   "pygments_lexer": "ipython3",
   "version": "3.11.3"
  }
 },
 "nbformat": 4,
 "nbformat_minor": 2
}
